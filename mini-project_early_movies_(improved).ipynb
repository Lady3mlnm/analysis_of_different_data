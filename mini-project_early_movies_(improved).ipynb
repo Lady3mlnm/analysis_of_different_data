{
 "cells": [
  {
   "cell_type": "markdown",
   "metadata": {},
   "source": [
    "Explore some period in the history of cinematography. For concreteness, I chose all movies that was released before 1950.\n",
    "\n",
    "**goal 1**: According data in the dataset, plot changes from year to year:\n",
    "* number of movies\n",
    "* average rating of all movies in a year\n",
    "* average popularity (total number of ratings for year / number of movies)\n",
    "\n",
    "**goal 2**: Count number of movies of different genres.\n",
    "\n",
    "**goal 3**: Select one genre (e.g. 'Documentary') and graph number of movies of this genre per year.\n",
    "\n",
    "**goal 4**: Determine with what other genres the movies of the defined genre are adjacent.\n",
    "\n",
    "\n",
    "The program should be created in flexible way, allowing easily change period and genre.\n",
    "\n",
    "For project there were used data base MovieLens ml-25m from [grouplens.org](https://grouplens.org/datasets/movielens/)."
   ]
  },
  {
   "cell_type": "code",
   "execution_count": 1,
   "metadata": {},
   "outputs": [],
   "source": [
    "import pandas as pd\n",
    "%matplotlib inline\n",
    "import math\n",
    "\n",
    "PATH_MOVIELENS = '/media/l3m/LinuxFilesBig/1-datasets/movielens (ml-25m)/'"
   ]
  },
  {
   "cell_type": "markdown",
   "metadata": {},
   "source": [
    "<br>\n",
    "\n",
    "#### Preliminary step 1: Load data bases"
   ]
  },
  {
   "cell_type": "markdown",
   "metadata": {},
   "source": [
    "Load data base with movies:"
   ]
  },
  {
   "cell_type": "code",
   "execution_count": 2,
   "metadata": {},
   "outputs": [
    {
     "data": {
      "text/html": [
       "<div>\n",
       "<style scoped>\n",
       "    .dataframe tbody tr th:only-of-type {\n",
       "        vertical-align: middle;\n",
       "    }\n",
       "\n",
       "    .dataframe tbody tr th {\n",
       "        vertical-align: top;\n",
       "    }\n",
       "\n",
       "    .dataframe thead th {\n",
       "        text-align: right;\n",
       "    }\n",
       "</style>\n",
       "<table border=\"1\" class=\"dataframe\">\n",
       "  <thead>\n",
       "    <tr style=\"text-align: right;\">\n",
       "      <th></th>\n",
       "      <th>title</th>\n",
       "      <th>genres</th>\n",
       "    </tr>\n",
       "    <tr>\n",
       "      <th>movieId</th>\n",
       "      <th></th>\n",
       "      <th></th>\n",
       "    </tr>\n",
       "  </thead>\n",
       "  <tbody>\n",
       "    <tr>\n",
       "      <th>1</th>\n",
       "      <td>Toy Story (1995)</td>\n",
       "      <td>Adventure|Animation|Children|Comedy|Fantasy</td>\n",
       "    </tr>\n",
       "    <tr>\n",
       "      <th>2</th>\n",
       "      <td>Jumanji (1995)</td>\n",
       "      <td>Adventure|Children|Fantasy</td>\n",
       "    </tr>\n",
       "    <tr>\n",
       "      <th>3</th>\n",
       "      <td>Grumpier Old Men (1995)</td>\n",
       "      <td>Comedy|Romance</td>\n",
       "    </tr>\n",
       "  </tbody>\n",
       "</table>\n",
       "</div>"
      ],
      "text/plain": [
       "                           title                                       genres\n",
       "movieId                                                                      \n",
       "1               Toy Story (1995)  Adventure|Animation|Children|Comedy|Fantasy\n",
       "2                 Jumanji (1995)                   Adventure|Children|Fantasy\n",
       "3        Grumpier Old Men (1995)                               Comedy|Romance"
      ]
     },
     "execution_count": 2,
     "metadata": {},
     "output_type": "execute_result"
    }
   ],
   "source": [
    "movies = pd.read_csv(PATH_MOVIELENS+'movies.csv', index_col=0)\n",
    "movies.head(3)"
   ]
  },
  {
   "cell_type": "markdown",
   "metadata": {},
   "source": [
    "<br>\n",
    "\n",
    "Load data base with ratings:"
   ]
  },
  {
   "cell_type": "code",
   "execution_count": 3,
   "metadata": {
    "scrolled": false
   },
   "outputs": [
    {
     "data": {
      "text/html": [
       "<div>\n",
       "<style scoped>\n",
       "    .dataframe tbody tr th:only-of-type {\n",
       "        vertical-align: middle;\n",
       "    }\n",
       "\n",
       "    .dataframe tbody tr th {\n",
       "        vertical-align: top;\n",
       "    }\n",
       "\n",
       "    .dataframe thead th {\n",
       "        text-align: right;\n",
       "    }\n",
       "</style>\n",
       "<table border=\"1\" class=\"dataframe\">\n",
       "  <thead>\n",
       "    <tr style=\"text-align: right;\">\n",
       "      <th></th>\n",
       "      <th>userId</th>\n",
       "      <th>movieId</th>\n",
       "      <th>rating</th>\n",
       "      <th>timestamp</th>\n",
       "    </tr>\n",
       "  </thead>\n",
       "  <tbody>\n",
       "    <tr>\n",
       "      <th>0</th>\n",
       "      <td>1</td>\n",
       "      <td>296</td>\n",
       "      <td>5.0</td>\n",
       "      <td>1147880044</td>\n",
       "    </tr>\n",
       "    <tr>\n",
       "      <th>1</th>\n",
       "      <td>1</td>\n",
       "      <td>306</td>\n",
       "      <td>3.5</td>\n",
       "      <td>1147868817</td>\n",
       "    </tr>\n",
       "    <tr>\n",
       "      <th>2</th>\n",
       "      <td>1</td>\n",
       "      <td>307</td>\n",
       "      <td>5.0</td>\n",
       "      <td>1147868828</td>\n",
       "    </tr>\n",
       "  </tbody>\n",
       "</table>\n",
       "</div>"
      ],
      "text/plain": [
       "   userId  movieId  rating   timestamp\n",
       "0       1      296     5.0  1147880044\n",
       "1       1      306     3.5  1147868817\n",
       "2       1      307     5.0  1147868828"
      ]
     },
     "execution_count": 3,
     "metadata": {},
     "output_type": "execute_result"
    }
   ],
   "source": [
    "ratings = pd.read_csv(PATH_MOVIELENS+'ratings.csv')\n",
    "ratings.head(3)"
   ]
  },
  {
   "cell_type": "markdown",
   "metadata": {},
   "source": [
    "<br>\n",
    "\n",
    "Check than in data base 'ratings' all rating are correct - higher than 0 and not higher than 5:"
   ]
  },
  {
   "cell_type": "code",
   "execution_count": 4,
   "metadata": {},
   "outputs": [],
   "source": [
    "assert (ratings['rating'] > 0).all(), \"In the data base there's rating 0 or lower\"\n",
    "\n",
    "assert not (ratings['rating'] > 5).any(), \"In the data base there's rating higher than 5\""
   ]
  },
  {
   "cell_type": "markdown",
   "metadata": {},
   "source": [
    "<br>\n",
    "\n",
    "Remove unnecessary column 'timestamp' for simplicity, performance and memory saving:"
   ]
  },
  {
   "cell_type": "code",
   "execution_count": 5,
   "metadata": {},
   "outputs": [
    {
     "data": {
      "text/html": [
       "<div>\n",
       "<style scoped>\n",
       "    .dataframe tbody tr th:only-of-type {\n",
       "        vertical-align: middle;\n",
       "    }\n",
       "\n",
       "    .dataframe tbody tr th {\n",
       "        vertical-align: top;\n",
       "    }\n",
       "\n",
       "    .dataframe thead th {\n",
       "        text-align: right;\n",
       "    }\n",
       "</style>\n",
       "<table border=\"1\" class=\"dataframe\">\n",
       "  <thead>\n",
       "    <tr style=\"text-align: right;\">\n",
       "      <th></th>\n",
       "      <th>userId</th>\n",
       "      <th>movieId</th>\n",
       "      <th>rating</th>\n",
       "    </tr>\n",
       "  </thead>\n",
       "  <tbody>\n",
       "    <tr>\n",
       "      <th>0</th>\n",
       "      <td>1</td>\n",
       "      <td>296</td>\n",
       "      <td>5.0</td>\n",
       "    </tr>\n",
       "    <tr>\n",
       "      <th>1</th>\n",
       "      <td>1</td>\n",
       "      <td>306</td>\n",
       "      <td>3.5</td>\n",
       "    </tr>\n",
       "    <tr>\n",
       "      <th>2</th>\n",
       "      <td>1</td>\n",
       "      <td>307</td>\n",
       "      <td>5.0</td>\n",
       "    </tr>\n",
       "  </tbody>\n",
       "</table>\n",
       "</div>"
      ],
      "text/plain": [
       "   userId  movieId  rating\n",
       "0       1      296     5.0\n",
       "1       1      306     3.5\n",
       "2       1      307     5.0"
      ]
     },
     "execution_count": 5,
     "metadata": {},
     "output_type": "execute_result"
    }
   ],
   "source": [
    "ratings.drop('timestamp', axis=1, inplace=True)\n",
    "#alternative: del ratings['timestamp']\n",
    "\n",
    "ratings.head(3)"
   ]
  },
  {
   "cell_type": "markdown",
   "metadata": {},
   "source": [
    "<br>\n",
    "<br>\n",
    "\n",
    "#### Preliminary step 2: Extend data bases"
   ]
  },
  {
   "cell_type": "markdown",
   "metadata": {},
   "source": [
    "Extract year from title of movie and place it in separate column.<br>\n",
    "Year is determined as string inside '()', the first character of which is '1' or '2', then 3 digits."
   ]
  },
  {
   "cell_type": "code",
   "execution_count": 6,
   "metadata": {},
   "outputs": [
    {
     "data": {
      "text/html": [
       "<div>\n",
       "<style scoped>\n",
       "    .dataframe tbody tr th:only-of-type {\n",
       "        vertical-align: middle;\n",
       "    }\n",
       "\n",
       "    .dataframe tbody tr th {\n",
       "        vertical-align: top;\n",
       "    }\n",
       "\n",
       "    .dataframe thead th {\n",
       "        text-align: right;\n",
       "    }\n",
       "</style>\n",
       "<table border=\"1\" class=\"dataframe\">\n",
       "  <thead>\n",
       "    <tr style=\"text-align: right;\">\n",
       "      <th></th>\n",
       "      <th>title</th>\n",
       "      <th>year</th>\n",
       "      <th>genres</th>\n",
       "    </tr>\n",
       "    <tr>\n",
       "      <th>movieId</th>\n",
       "      <th></th>\n",
       "      <th></th>\n",
       "      <th></th>\n",
       "    </tr>\n",
       "  </thead>\n",
       "  <tbody>\n",
       "    <tr>\n",
       "      <th>1</th>\n",
       "      <td>Toy Story (1995)</td>\n",
       "      <td>1995</td>\n",
       "      <td>Adventure|Animation|Children|Comedy|Fantasy</td>\n",
       "    </tr>\n",
       "    <tr>\n",
       "      <th>2</th>\n",
       "      <td>Jumanji (1995)</td>\n",
       "      <td>1995</td>\n",
       "      <td>Adventure|Children|Fantasy</td>\n",
       "    </tr>\n",
       "    <tr>\n",
       "      <th>3</th>\n",
       "      <td>Grumpier Old Men (1995)</td>\n",
       "      <td>1995</td>\n",
       "      <td>Comedy|Romance</td>\n",
       "    </tr>\n",
       "  </tbody>\n",
       "</table>\n",
       "</div>"
      ],
      "text/plain": [
       "                           title  year  \\\n",
       "movieId                                  \n",
       "1               Toy Story (1995)  1995   \n",
       "2                 Jumanji (1995)  1995   \n",
       "3        Grumpier Old Men (1995)  1995   \n",
       "\n",
       "                                              genres  \n",
       "movieId                                               \n",
       "1        Adventure|Animation|Children|Comedy|Fantasy  \n",
       "2                         Adventure|Children|Fantasy  \n",
       "3                                     Comedy|Romance  "
      ]
     },
     "execution_count": 6,
     "metadata": {},
     "output_type": "execute_result"
    }
   ],
   "source": [
    "year_of_movies = movies['title'].str.extract('.*\\(([12]\\d{3})\\).*')\n",
    "\n",
    "movies.insert(1, 'year', year_of_movies)\n",
    "\n",
    "\n",
    "movies.head(3)"
   ]
  },
  {
   "cell_type": "code",
   "execution_count": 7,
   "metadata": {},
   "outputs": [],
   "source": [
    "# Alternative: extract year in separate column and change order of columns\n",
    "\n",
    "# movies['year'] = movies['title'].str.extract('.*\\(([12]\\d{3})\\).*')\n",
    "\n",
    "# cols = movies.columns.tolist()\n",
    "# cols = [cols[0]] + [cols[2]] + [cols[1]]\n",
    "# movies = movies[cols]\n",
    "\n",
    "# movies.head()"
   ]
  },
  {
   "cell_type": "markdown",
   "metadata": {},
   "source": [
    "<br>\n",
    "\n",
    "Create temporary DataFrame, containing averate rating of movies:"
   ]
  },
  {
   "cell_type": "code",
   "execution_count": 8,
   "metadata": {},
   "outputs": [
    {
     "data": {
      "text/html": [
       "<div>\n",
       "<style scoped>\n",
       "    .dataframe tbody tr th:only-of-type {\n",
       "        vertical-align: middle;\n",
       "    }\n",
       "\n",
       "    .dataframe tbody tr th {\n",
       "        vertical-align: top;\n",
       "    }\n",
       "\n",
       "    .dataframe thead th {\n",
       "        text-align: right;\n",
       "    }\n",
       "</style>\n",
       "<table border=\"1\" class=\"dataframe\">\n",
       "  <thead>\n",
       "    <tr style=\"text-align: right;\">\n",
       "      <th></th>\n",
       "      <th>av_rating</th>\n",
       "      <th>nmb_ratings</th>\n",
       "    </tr>\n",
       "    <tr>\n",
       "      <th>movieId</th>\n",
       "      <th></th>\n",
       "      <th></th>\n",
       "    </tr>\n",
       "  </thead>\n",
       "  <tbody>\n",
       "    <tr>\n",
       "      <th>1</th>\n",
       "      <td>3.893708</td>\n",
       "      <td>57309.0</td>\n",
       "    </tr>\n",
       "    <tr>\n",
       "      <th>2</th>\n",
       "      <td>3.251527</td>\n",
       "      <td>24228.0</td>\n",
       "    </tr>\n",
       "    <tr>\n",
       "      <th>3</th>\n",
       "      <td>3.142028</td>\n",
       "      <td>11804.0</td>\n",
       "    </tr>\n",
       "  </tbody>\n",
       "</table>\n",
       "</div>"
      ],
      "text/plain": [
       "         av_rating  nmb_ratings\n",
       "movieId                        \n",
       "1         3.893708      57309.0\n",
       "2         3.251527      24228.0\n",
       "3         3.142028      11804.0"
      ]
     },
     "execution_count": 8,
     "metadata": {},
     "output_type": "execute_result"
    }
   ],
   "source": [
    "movies_stat = ratings[['movieId','rating']].groupby('movieId').agg([pd.DataFrame.mean, pd.Series.count])\n",
    "movies_stat.columns = ['av_rating', 'nmb_ratings']\n",
    "\n",
    "movies_stat.head(3)"
   ]
  },
  {
   "cell_type": "markdown",
   "metadata": {},
   "source": [
    "<br>\n",
    "\n",
    "Combine DataFrames:"
   ]
  },
  {
   "cell_type": "code",
   "execution_count": 9,
   "metadata": {
    "scrolled": true
   },
   "outputs": [
    {
     "data": {
      "text/html": [
       "<div>\n",
       "<style scoped>\n",
       "    .dataframe tbody tr th:only-of-type {\n",
       "        vertical-align: middle;\n",
       "    }\n",
       "\n",
       "    .dataframe tbody tr th {\n",
       "        vertical-align: top;\n",
       "    }\n",
       "\n",
       "    .dataframe thead th {\n",
       "        text-align: right;\n",
       "    }\n",
       "</style>\n",
       "<table border=\"1\" class=\"dataframe\">\n",
       "  <thead>\n",
       "    <tr style=\"text-align: right;\">\n",
       "      <th></th>\n",
       "      <th>title</th>\n",
       "      <th>year</th>\n",
       "      <th>genres</th>\n",
       "      <th>av_rating</th>\n",
       "      <th>nmb_ratings</th>\n",
       "    </tr>\n",
       "    <tr>\n",
       "      <th>movieId</th>\n",
       "      <th></th>\n",
       "      <th></th>\n",
       "      <th></th>\n",
       "      <th></th>\n",
       "      <th></th>\n",
       "    </tr>\n",
       "  </thead>\n",
       "  <tbody>\n",
       "    <tr>\n",
       "      <th>1</th>\n",
       "      <td>Toy Story (1995)</td>\n",
       "      <td>1995</td>\n",
       "      <td>Adventure|Animation|Children|Comedy|Fantasy</td>\n",
       "      <td>3.893708</td>\n",
       "      <td>57309.0</td>\n",
       "    </tr>\n",
       "    <tr>\n",
       "      <th>2</th>\n",
       "      <td>Jumanji (1995)</td>\n",
       "      <td>1995</td>\n",
       "      <td>Adventure|Children|Fantasy</td>\n",
       "      <td>3.251527</td>\n",
       "      <td>24228.0</td>\n",
       "    </tr>\n",
       "    <tr>\n",
       "      <th>3</th>\n",
       "      <td>Grumpier Old Men (1995)</td>\n",
       "      <td>1995</td>\n",
       "      <td>Comedy|Romance</td>\n",
       "      <td>3.142028</td>\n",
       "      <td>11804.0</td>\n",
       "    </tr>\n",
       "  </tbody>\n",
       "</table>\n",
       "</div>"
      ],
      "text/plain": [
       "                           title  year  \\\n",
       "movieId                                  \n",
       "1               Toy Story (1995)  1995   \n",
       "2                 Jumanji (1995)  1995   \n",
       "3        Grumpier Old Men (1995)  1995   \n",
       "\n",
       "                                              genres  av_rating  nmb_ratings  \n",
       "movieId                                                                       \n",
       "1        Adventure|Animation|Children|Comedy|Fantasy   3.893708      57309.0  \n",
       "2                         Adventure|Children|Fantasy   3.251527      24228.0  \n",
       "3                                     Comedy|Romance   3.142028      11804.0  "
      ]
     },
     "execution_count": 9,
     "metadata": {},
     "output_type": "execute_result"
    }
   ],
   "source": [
    "movies = movies.join(movies_stat)\n",
    "#alternative: movies = pd.concat([movies, movies_stat], axis=1)\n",
    "\n",
    "movies.head(3)"
   ]
  },
  {
   "cell_type": "markdown",
   "metadata": {},
   "source": [
    "<br>\n",
    "\n",
    "Delete temporary DataFrames 'ratings' and 'movies_stat' for memory saving."
   ]
  },
  {
   "cell_type": "code",
   "execution_count": 10,
   "metadata": {},
   "outputs": [],
   "source": [
    "if ('year_of_movies' in globals()):\n",
    "    del year_of_movies\n",
    "\n",
    "if ('ratings' in globals()):\n",
    "    del ratings\n",
    "\n",
    "if ('movies_stat' in globals()):\n",
    "    del movies_stat"
   ]
  },
  {
   "cell_type": "markdown",
   "metadata": {},
   "source": [
    "<br>\n",
    "\n",
    "Some additional processing of DataFrame 'movies'.<br>\n",
    "At first, look what we have:"
   ]
  },
  {
   "cell_type": "code",
   "execution_count": 11,
   "metadata": {},
   "outputs": [
    {
     "name": "stdout",
     "output_type": "stream",
     "text": [
      "(62423, 5)\n",
      "\n",
      "title           object\n",
      "year            object\n",
      "genres          object\n",
      "av_rating      float64\n",
      "nmb_ratings    float64\n",
      "dtype: object\n"
     ]
    }
   ],
   "source": [
    "print(movies.shape)\n",
    "print()\n",
    "print(movies.dtypes)"
   ]
  },
  {
   "cell_type": "markdown",
   "metadata": {},
   "source": [
    "Remove rows where 'year' is <code>NaN</code>:"
   ]
  },
  {
   "cell_type": "code",
   "execution_count": 12,
   "metadata": {},
   "outputs": [],
   "source": [
    "movies = movies.dropna(subset = ['year'])"
   ]
  },
  {
   "cell_type": "markdown",
   "metadata": {},
   "source": [
    "At this moment data in column 'year' have type <code>string</code>. Change it to <code>int</code>:"
   ]
  },
  {
   "cell_type": "code",
   "execution_count": 13,
   "metadata": {},
   "outputs": [],
   "source": [
    "movies['year'] = movies['year'].astype('int')\n",
    "#alternative: movies.year = movies.year.map(lambda y: int(y))"
   ]
  },
  {
   "cell_type": "markdown",
   "metadata": {},
   "source": [
    "Check that we accidentally extract in the column 'year' inappropriate date:"
   ]
  },
  {
   "cell_type": "code",
   "execution_count": 14,
   "metadata": {},
   "outputs": [],
   "source": [
    "from datetime import date\n",
    "current_year = date.today().year\n",
    "\n",
    "#Alternative:\n",
    "# from datetime import datetime\n",
    "# current_year = datetime.now().year  # but datetime.now() returns more information,\n",
    "                                      # so for such case it's worse\n",
    "\n",
    "assert (movies['year'] >= 1874).all(), \"There's year less than 1874. It's interesting.\"\n",
    "assert (movies['year'] <= current_year).all(), \"There's year greater than current\""
   ]
  },
  {
   "cell_type": "markdown",
   "metadata": {},
   "source": [
    "Some cells in the column 'number_of_ratings' contain `NaN` values. Change them to `0`. Also transform type of data in this column from `float` to `int`."
   ]
  },
  {
   "cell_type": "code",
   "execution_count": 15,
   "metadata": {},
   "outputs": [],
   "source": [
    "movies['nmb_ratings'].fillna(0, inplace=True)\n",
    "movies['nmb_ratings'] = movies['nmb_ratings'].astype('int')"
   ]
  },
  {
   "cell_type": "markdown",
   "metadata": {},
   "source": [
    "Sort DataFrame by year:"
   ]
  },
  {
   "cell_type": "code",
   "execution_count": 16,
   "metadata": {},
   "outputs": [],
   "source": [
    "movies.sort_values(by='year', inplace=True)"
   ]
  },
  {
   "cell_type": "markdown",
   "metadata": {},
   "source": [
    "Check what we have now:"
   ]
  },
  {
   "cell_type": "code",
   "execution_count": 17,
   "metadata": {},
   "outputs": [
    {
     "name": "stdout",
     "output_type": "stream",
     "text": [
      "(62013, 5)\n",
      "\n",
      "title           object\n",
      "year             int64\n",
      "genres          object\n",
      "av_rating      float64\n",
      "nmb_ratings      int64\n",
      "dtype: object\n"
     ]
    },
    {
     "data": {
      "text/html": [
       "<div>\n",
       "<style scoped>\n",
       "    .dataframe tbody tr th:only-of-type {\n",
       "        vertical-align: middle;\n",
       "    }\n",
       "\n",
       "    .dataframe tbody tr th {\n",
       "        vertical-align: top;\n",
       "    }\n",
       "\n",
       "    .dataframe thead th {\n",
       "        text-align: right;\n",
       "    }\n",
       "</style>\n",
       "<table border=\"1\" class=\"dataframe\">\n",
       "  <thead>\n",
       "    <tr style=\"text-align: right;\">\n",
       "      <th></th>\n",
       "      <th>title</th>\n",
       "      <th>year</th>\n",
       "      <th>genres</th>\n",
       "      <th>av_rating</th>\n",
       "      <th>nmb_ratings</th>\n",
       "    </tr>\n",
       "    <tr>\n",
       "      <th>movieId</th>\n",
       "      <th></th>\n",
       "      <th></th>\n",
       "      <th></th>\n",
       "      <th></th>\n",
       "      <th></th>\n",
       "    </tr>\n",
       "  </thead>\n",
       "  <tbody>\n",
       "    <tr>\n",
       "      <th>148054</th>\n",
       "      <td>Passage de Venus (1874)</td>\n",
       "      <td>1874</td>\n",
       "      <td>Documentary</td>\n",
       "      <td>3.027778</td>\n",
       "      <td>18</td>\n",
       "    </tr>\n",
       "    <tr>\n",
       "      <th>148048</th>\n",
       "      <td>Sallie Gardner at a Gallop (1878)</td>\n",
       "      <td>1878</td>\n",
       "      <td>(no genres listed)</td>\n",
       "      <td>2.909091</td>\n",
       "      <td>22</td>\n",
       "    </tr>\n",
       "    <tr>\n",
       "      <th>202045</th>\n",
       "      <td>Athlete Swinging a Pick (1880)</td>\n",
       "      <td>1880</td>\n",
       "      <td>Documentary</td>\n",
       "      <td>2.666667</td>\n",
       "      <td>3</td>\n",
       "    </tr>\n",
       "  </tbody>\n",
       "</table>\n",
       "</div>"
      ],
      "text/plain": [
       "                                     title  year              genres  \\\n",
       "movieId                                                                \n",
       "148054             Passage de Venus (1874)  1874         Documentary   \n",
       "148048   Sallie Gardner at a Gallop (1878)  1878  (no genres listed)   \n",
       "202045      Athlete Swinging a Pick (1880)  1880         Documentary   \n",
       "\n",
       "         av_rating  nmb_ratings  \n",
       "movieId                          \n",
       "148054    3.027778           18  \n",
       "148048    2.909091           22  \n",
       "202045    2.666667            3  "
      ]
     },
     "execution_count": 17,
     "metadata": {},
     "output_type": "execute_result"
    }
   ],
   "source": [
    "print(movies.shape)\n",
    "print()\n",
    "print(movies.dtypes)\n",
    "\n",
    "movies.head(3)"
   ]
  },
  {
   "cell_type": "markdown",
   "metadata": {},
   "source": [
    "<br>\n",
    "\n",
    "Replace `(no genres listed)` in genres by `-`"
   ]
  },
  {
   "cell_type": "code",
   "execution_count": 18,
   "metadata": {},
   "outputs": [],
   "source": [
    "movies['genres'].replace('(no genres listed)', 'n/a', inplace=True)"
   ]
  },
  {
   "cell_type": "code",
   "execution_count": 19,
   "metadata": {},
   "outputs": [
    {
     "data": {
      "text/html": [
       "<div>\n",
       "<style scoped>\n",
       "    .dataframe tbody tr th:only-of-type {\n",
       "        vertical-align: middle;\n",
       "    }\n",
       "\n",
       "    .dataframe tbody tr th {\n",
       "        vertical-align: top;\n",
       "    }\n",
       "\n",
       "    .dataframe thead th {\n",
       "        text-align: right;\n",
       "    }\n",
       "</style>\n",
       "<table border=\"1\" class=\"dataframe\">\n",
       "  <thead>\n",
       "    <tr style=\"text-align: right;\">\n",
       "      <th></th>\n",
       "      <th>title</th>\n",
       "      <th>year</th>\n",
       "      <th>genres</th>\n",
       "      <th>av_rating</th>\n",
       "      <th>nmb_ratings</th>\n",
       "    </tr>\n",
       "    <tr>\n",
       "      <th>movieId</th>\n",
       "      <th></th>\n",
       "      <th></th>\n",
       "      <th></th>\n",
       "      <th></th>\n",
       "      <th></th>\n",
       "    </tr>\n",
       "  </thead>\n",
       "  <tbody>\n",
       "    <tr>\n",
       "      <th>148054</th>\n",
       "      <td>Passage de Venus (1874)</td>\n",
       "      <td>1874</td>\n",
       "      <td>Documentary</td>\n",
       "      <td>3.027778</td>\n",
       "      <td>18</td>\n",
       "    </tr>\n",
       "    <tr>\n",
       "      <th>148048</th>\n",
       "      <td>Sallie Gardner at a Gallop (1878)</td>\n",
       "      <td>1878</td>\n",
       "      <td>n/a</td>\n",
       "      <td>2.909091</td>\n",
       "      <td>22</td>\n",
       "    </tr>\n",
       "    <tr>\n",
       "      <th>202045</th>\n",
       "      <td>Athlete Swinging a Pick (1880)</td>\n",
       "      <td>1880</td>\n",
       "      <td>Documentary</td>\n",
       "      <td>2.666667</td>\n",
       "      <td>3</td>\n",
       "    </tr>\n",
       "    <tr>\n",
       "      <th>166800</th>\n",
       "      <td>Buffalo Running (1883)</td>\n",
       "      <td>1883</td>\n",
       "      <td>n/a</td>\n",
       "      <td>2.636364</td>\n",
       "      <td>11</td>\n",
       "    </tr>\n",
       "    <tr>\n",
       "      <th>148040</th>\n",
       "      <td>Man Walking Around a Corner (1887)</td>\n",
       "      <td>1887</td>\n",
       "      <td>n/a</td>\n",
       "      <td>1.750000</td>\n",
       "      <td>16</td>\n",
       "    </tr>\n",
       "    <tr>\n",
       "      <th>148042</th>\n",
       "      <td>Accordion Player (1888)</td>\n",
       "      <td>1888</td>\n",
       "      <td>Documentary</td>\n",
       "      <td>1.928571</td>\n",
       "      <td>14</td>\n",
       "    </tr>\n",
       "    <tr>\n",
       "      <th>176849</th>\n",
       "      <td>Roundhay Garden Scene (1888)</td>\n",
       "      <td>1888</td>\n",
       "      <td>Documentary</td>\n",
       "      <td>2.605263</td>\n",
       "      <td>19</td>\n",
       "    </tr>\n",
       "    <tr>\n",
       "      <th>148050</th>\n",
       "      <td>Traffic Crossing Leeds Bridge (1888)</td>\n",
       "      <td>1888</td>\n",
       "      <td>Documentary</td>\n",
       "      <td>2.375000</td>\n",
       "      <td>20</td>\n",
       "    </tr>\n",
       "    <tr>\n",
       "      <th>180503</th>\n",
       "      <td>Pferd und Reiter Springen Über ein Hindernis (...</td>\n",
       "      <td>1888</td>\n",
       "      <td>Documentary</td>\n",
       "      <td>2.583333</td>\n",
       "      <td>6</td>\n",
       "    </tr>\n",
       "    <tr>\n",
       "      <th>148052</th>\n",
       "      <td>London's Trafalgar Square (1890)</td>\n",
       "      <td>1890</td>\n",
       "      <td>n/a</td>\n",
       "      <td>2.250000</td>\n",
       "      <td>6</td>\n",
       "    </tr>\n",
       "  </tbody>\n",
       "</table>\n",
       "</div>"
      ],
      "text/plain": [
       "                                                     title  year       genres  \\\n",
       "movieId                                                                         \n",
       "148054                             Passage de Venus (1874)  1874  Documentary   \n",
       "148048                   Sallie Gardner at a Gallop (1878)  1878          n/a   \n",
       "202045                      Athlete Swinging a Pick (1880)  1880  Documentary   \n",
       "166800                              Buffalo Running (1883)  1883          n/a   \n",
       "148040                  Man Walking Around a Corner (1887)  1887          n/a   \n",
       "148042                             Accordion Player (1888)  1888  Documentary   \n",
       "176849                        Roundhay Garden Scene (1888)  1888  Documentary   \n",
       "148050                Traffic Crossing Leeds Bridge (1888)  1888  Documentary   \n",
       "180503   Pferd und Reiter Springen Über ein Hindernis (...  1888  Documentary   \n",
       "148052                    London's Trafalgar Square (1890)  1890          n/a   \n",
       "\n",
       "         av_rating  nmb_ratings  \n",
       "movieId                          \n",
       "148054    3.027778           18  \n",
       "148048    2.909091           22  \n",
       "202045    2.666667            3  \n",
       "166800    2.636364           11  \n",
       "148040    1.750000           16  \n",
       "148042    1.928571           14  \n",
       "176849    2.605263           19  \n",
       "148050    2.375000           20  \n",
       "180503    2.583333            6  \n",
       "148052    2.250000            6  "
      ]
     },
     "execution_count": 19,
     "metadata": {},
     "output_type": "execute_result"
    }
   ],
   "source": [
    "movies.head(10)"
   ]
  },
  {
   "cell_type": "markdown",
   "metadata": {},
   "source": [
    "<br>\n",
    "\n",
    "Remove year from title.<br>\n",
    "(*I use so complicated expression because in some titles the year was in the middle.<br>\n",
    "E.g. movieId 141628: 'The Naked Truth (1957) (Your Past Is Showing)'*)"
   ]
  },
  {
   "cell_type": "code",
   "execution_count": 20,
   "metadata": {
    "scrolled": true
   },
   "outputs": [
    {
     "name": "stdout",
     "output_type": "stream",
     "text": [
      "The Naked Truth (Your Past Is Showing)\n"
     ]
    },
    {
     "data": {
      "text/html": [
       "<div>\n",
       "<style scoped>\n",
       "    .dataframe tbody tr th:only-of-type {\n",
       "        vertical-align: middle;\n",
       "    }\n",
       "\n",
       "    .dataframe tbody tr th {\n",
       "        vertical-align: top;\n",
       "    }\n",
       "\n",
       "    .dataframe thead th {\n",
       "        text-align: right;\n",
       "    }\n",
       "</style>\n",
       "<table border=\"1\" class=\"dataframe\">\n",
       "  <thead>\n",
       "    <tr style=\"text-align: right;\">\n",
       "      <th></th>\n",
       "      <th>title</th>\n",
       "      <th>year</th>\n",
       "      <th>genres</th>\n",
       "      <th>av_rating</th>\n",
       "      <th>nmb_ratings</th>\n",
       "    </tr>\n",
       "    <tr>\n",
       "      <th>movieId</th>\n",
       "      <th></th>\n",
       "      <th></th>\n",
       "      <th></th>\n",
       "      <th></th>\n",
       "      <th></th>\n",
       "    </tr>\n",
       "  </thead>\n",
       "  <tbody>\n",
       "    <tr>\n",
       "      <th>148054</th>\n",
       "      <td>Passage de Venus</td>\n",
       "      <td>1874</td>\n",
       "      <td>Documentary</td>\n",
       "      <td>3.027778</td>\n",
       "      <td>18</td>\n",
       "    </tr>\n",
       "    <tr>\n",
       "      <th>148048</th>\n",
       "      <td>Sallie Gardner at a Gallop</td>\n",
       "      <td>1878</td>\n",
       "      <td>n/a</td>\n",
       "      <td>2.909091</td>\n",
       "      <td>22</td>\n",
       "    </tr>\n",
       "    <tr>\n",
       "      <th>202045</th>\n",
       "      <td>Athlete Swinging a Pick</td>\n",
       "      <td>1880</td>\n",
       "      <td>Documentary</td>\n",
       "      <td>2.666667</td>\n",
       "      <td>3</td>\n",
       "    </tr>\n",
       "    <tr>\n",
       "      <th>166800</th>\n",
       "      <td>Buffalo Running</td>\n",
       "      <td>1883</td>\n",
       "      <td>n/a</td>\n",
       "      <td>2.636364</td>\n",
       "      <td>11</td>\n",
       "    </tr>\n",
       "    <tr>\n",
       "      <th>148040</th>\n",
       "      <td>Man Walking Around a Corner</td>\n",
       "      <td>1887</td>\n",
       "      <td>n/a</td>\n",
       "      <td>1.750000</td>\n",
       "      <td>16</td>\n",
       "    </tr>\n",
       "  </tbody>\n",
       "</table>\n",
       "</div>"
      ],
      "text/plain": [
       "                                title  year       genres  av_rating  \\\n",
       "movieId                                                               \n",
       "148054              Passage de Venus   1874  Documentary   3.027778   \n",
       "148048    Sallie Gardner at a Gallop   1878          n/a   2.909091   \n",
       "202045       Athlete Swinging a Pick   1880  Documentary   2.666667   \n",
       "166800               Buffalo Running   1883          n/a   2.636364   \n",
       "148040   Man Walking Around a Corner   1887          n/a   1.750000   \n",
       "\n",
       "         nmb_ratings  \n",
       "movieId               \n",
       "148054            18  \n",
       "148048            22  \n",
       "202045             3  \n",
       "166800            11  \n",
       "148040            16  "
      ]
     },
     "execution_count": 20,
     "metadata": {},
     "output_type": "execute_result"
    }
   ],
   "source": [
    "movies['title'] = movies['title'].str.extract('(.*)\\([12]\\d{3}\\).*') + \\\n",
    "                  movies['title'].str.extract('.*\\([12]\\d{3}\\) ?(.*)')\n",
    "\n",
    "assert len(movies[movies['title'] == '']) == 0, \"There's row with empty title\"\n",
    "\n",
    "if 141628 in movies.index:\n",
    "    print(movies.loc[141628,'title'])\n",
    "    \n",
    "movies.head()"
   ]
  },
  {
   "cell_type": "markdown",
   "metadata": {},
   "source": [
    "<br>\n",
    "<br>\n",
    "\n",
    "#### Goal 1: Plot different characteristics of movies per year"
   ]
  },
  {
   "cell_type": "code",
   "execution_count": 21,
   "metadata": {},
   "outputs": [],
   "source": [
    "year_begin = 0\n",
    "year_end = 1950"
   ]
  },
  {
   "cell_type": "markdown",
   "metadata": {},
   "source": [
    "Find earliest and latest movies in the DataFrame. Use this information to correct variables `year_begin` and `year_end` to eliminate blank ends."
   ]
  },
  {
   "cell_type": "code",
   "execution_count": 22,
   "metadata": {},
   "outputs": [
    {
     "data": {
      "text/plain": [
       "(1874, 1950)"
      ]
     },
     "execution_count": 22,
     "metadata": {},
     "output_type": "execute_result"
    }
   ],
   "source": [
    "earliest_movie = movies['year'].min()\n",
    "latest_movie = movies['year'].max()\n",
    "\n",
    "year_begin = max(year_begin, earliest_movie)\n",
    "year_end = min(year_end, latest_movie)\n",
    "\n",
    "year_begin, year_end"
   ]
  },
  {
   "cell_type": "markdown",
   "metadata": {},
   "source": [
    "<br>\n",
    "\n",
    "Create subset of 'movies' DataFrame to work with it more conveniently:"
   ]
  },
  {
   "cell_type": "code",
   "execution_count": 23,
   "metadata": {
    "scrolled": true
   },
   "outputs": [
    {
     "data": {
      "text/html": [
       "<div>\n",
       "<style scoped>\n",
       "    .dataframe tbody tr th:only-of-type {\n",
       "        vertical-align: middle;\n",
       "    }\n",
       "\n",
       "    .dataframe tbody tr th {\n",
       "        vertical-align: top;\n",
       "    }\n",
       "\n",
       "    .dataframe thead th {\n",
       "        text-align: right;\n",
       "    }\n",
       "</style>\n",
       "<table border=\"1\" class=\"dataframe\">\n",
       "  <thead>\n",
       "    <tr style=\"text-align: right;\">\n",
       "      <th></th>\n",
       "      <th>title</th>\n",
       "      <th>year</th>\n",
       "      <th>genres</th>\n",
       "      <th>av_rating</th>\n",
       "      <th>nmb_ratings</th>\n",
       "    </tr>\n",
       "    <tr>\n",
       "      <th>movieId</th>\n",
       "      <th></th>\n",
       "      <th></th>\n",
       "      <th></th>\n",
       "      <th></th>\n",
       "      <th></th>\n",
       "    </tr>\n",
       "  </thead>\n",
       "  <tbody>\n",
       "    <tr>\n",
       "      <th>148054</th>\n",
       "      <td>Passage de Venus</td>\n",
       "      <td>1874</td>\n",
       "      <td>Documentary</td>\n",
       "      <td>3.027778</td>\n",
       "      <td>18</td>\n",
       "    </tr>\n",
       "    <tr>\n",
       "      <th>148048</th>\n",
       "      <td>Sallie Gardner at a Gallop</td>\n",
       "      <td>1878</td>\n",
       "      <td>n/a</td>\n",
       "      <td>2.909091</td>\n",
       "      <td>22</td>\n",
       "    </tr>\n",
       "    <tr>\n",
       "      <th>202045</th>\n",
       "      <td>Athlete Swinging a Pick</td>\n",
       "      <td>1880</td>\n",
       "      <td>Documentary</td>\n",
       "      <td>2.666667</td>\n",
       "      <td>3</td>\n",
       "    </tr>\n",
       "    <tr>\n",
       "      <th>166800</th>\n",
       "      <td>Buffalo Running</td>\n",
       "      <td>1883</td>\n",
       "      <td>n/a</td>\n",
       "      <td>2.636364</td>\n",
       "      <td>11</td>\n",
       "    </tr>\n",
       "    <tr>\n",
       "      <th>148040</th>\n",
       "      <td>Man Walking Around a Corner</td>\n",
       "      <td>1887</td>\n",
       "      <td>n/a</td>\n",
       "      <td>1.750000</td>\n",
       "      <td>16</td>\n",
       "    </tr>\n",
       "  </tbody>\n",
       "</table>\n",
       "</div>"
      ],
      "text/plain": [
       "                                title  year       genres  av_rating  \\\n",
       "movieId                                                               \n",
       "148054              Passage de Venus   1874  Documentary   3.027778   \n",
       "148048    Sallie Gardner at a Gallop   1878          n/a   2.909091   \n",
       "202045       Athlete Swinging a Pick   1880  Documentary   2.666667   \n",
       "166800               Buffalo Running   1883          n/a   2.636364   \n",
       "148040   Man Walking Around a Corner   1887          n/a   1.750000   \n",
       "\n",
       "         nmb_ratings  \n",
       "movieId               \n",
       "148054            18  \n",
       "148048            22  \n",
       "202045             3  \n",
       "166800            11  \n",
       "148040            16  "
      ]
     },
     "execution_count": 23,
     "metadata": {},
     "output_type": "execute_result"
    }
   ],
   "source": [
    "mvs = movies[(movies['year'] >= year_begin) & (movies['year'] <= year_end)]\n",
    "\n",
    "mvs.head()"
   ]
  },
  {
   "cell_type": "markdown",
   "metadata": {},
   "source": [
    "<br>\n",
    "\n",
    "Some simple statistics about this period just for general familiarization:"
   ]
  },
  {
   "cell_type": "code",
   "execution_count": 24,
   "metadata": {},
   "outputs": [
    {
     "name": "stdout",
     "output_type": "stream",
     "text": [
      "Number of movies                   : 5761\n",
      "Average rating of all movies       : 3.1\n",
      "Std deviation of average ratings   : 0.62\n",
      "Average number of ratings per movie: 101.2\n"
     ]
    }
   ],
   "source": [
    "print('Number of movies                   :', len(mvs))\n",
    "print('Average rating of all movies       :', round(mvs['av_rating'].mean(), 1))\n",
    "print('Std deviation of average ratings   :', round(mvs['av_rating'].std(), 2))\n",
    "print('Average number of ratings per movie:', round(mvs['nmb_ratings'].mean(), 1))"
   ]
  },
  {
   "cell_type": "markdown",
   "metadata": {},
   "source": [
    "<br>\n",
    "\n",
    "Create DataFrame, containing general statistics about movies per year:\n",
    "* Number of movies released this year\n",
    "* Average rating of movies in this year\n",
    "* Average popularity"
   ]
  },
  {
   "cell_type": "code",
   "execution_count": 25,
   "metadata": {
    "scrolled": true
   },
   "outputs": [
    {
     "data": {
      "text/html": [
       "<div>\n",
       "<style scoped>\n",
       "    .dataframe tbody tr th:only-of-type {\n",
       "        vertical-align: middle;\n",
       "    }\n",
       "\n",
       "    .dataframe tbody tr th {\n",
       "        vertical-align: top;\n",
       "    }\n",
       "\n",
       "    .dataframe thead th {\n",
       "        text-align: right;\n",
       "    }\n",
       "</style>\n",
       "<table border=\"1\" class=\"dataframe\">\n",
       "  <thead>\n",
       "    <tr style=\"text-align: right;\">\n",
       "      <th></th>\n",
       "      <th>nmb_movies</th>\n",
       "      <th>av_rating_per_year</th>\n",
       "      <th>av_nmb_ratings</th>\n",
       "    </tr>\n",
       "    <tr>\n",
       "      <th>year</th>\n",
       "      <th></th>\n",
       "      <th></th>\n",
       "      <th></th>\n",
       "    </tr>\n",
       "  </thead>\n",
       "  <tbody>\n",
       "    <tr>\n",
       "      <th>1874</th>\n",
       "      <td>1.0</td>\n",
       "      <td>3.0</td>\n",
       "      <td>18.0</td>\n",
       "    </tr>\n",
       "    <tr>\n",
       "      <th>1878</th>\n",
       "      <td>1.0</td>\n",
       "      <td>2.9</td>\n",
       "      <td>22.0</td>\n",
       "    </tr>\n",
       "    <tr>\n",
       "      <th>1880</th>\n",
       "      <td>1.0</td>\n",
       "      <td>2.7</td>\n",
       "      <td>3.0</td>\n",
       "    </tr>\n",
       "    <tr>\n",
       "      <th>1883</th>\n",
       "      <td>1.0</td>\n",
       "      <td>2.6</td>\n",
       "      <td>11.0</td>\n",
       "    </tr>\n",
       "    <tr>\n",
       "      <th>1887</th>\n",
       "      <td>1.0</td>\n",
       "      <td>1.8</td>\n",
       "      <td>16.0</td>\n",
       "    </tr>\n",
       "  </tbody>\n",
       "</table>\n",
       "</div>"
      ],
      "text/plain": [
       "      nmb_movies  av_rating_per_year  av_nmb_ratings\n",
       "year                                                \n",
       "1874         1.0                 3.0            18.0\n",
       "1878         1.0                 2.9            22.0\n",
       "1880         1.0                 2.7             3.0\n",
       "1883         1.0                 2.6            11.0\n",
       "1887         1.0                 1.8            16.0"
      ]
     },
     "execution_count": 25,
     "metadata": {},
     "output_type": "execute_result"
    }
   ],
   "source": [
    "def handle_year(gr):\n",
    "    nmb_movies = len(gr)\n",
    "    av_rating_per_year = gr['av_rating'].mean()\n",
    "    av_popularity = gr['nmb_ratings'].mean()\n",
    "    \n",
    "    return pd.Series({'nmb_movies': nmb_movies,\n",
    "                      'av_rating_per_year': round(av_rating_per_year, 1),\n",
    "                      'av_nmb_ratings': round(av_popularity, 1)\n",
    "                     })\n",
    "\n",
    "movies_per_year = mvs.groupby('year').apply(handle_year)\n",
    "\n",
    "movies_per_year.head()"
   ]
  },
  {
   "cell_type": "markdown",
   "metadata": {},
   "source": [
    "<br>\n",
    "\n",
    "Fill in spaces and make the DataFrame more neat:\n",
    "* Fill in years without released movies with NaN values\n",
    "* Replace NaN by 0\n",
    "* Transform in some columns type of data from float to int"
   ]
  },
  {
   "cell_type": "code",
   "execution_count": 26,
   "metadata": {},
   "outputs": [
    {
     "data": {
      "text/html": [
       "<div>\n",
       "<style scoped>\n",
       "    .dataframe tbody tr th:only-of-type {\n",
       "        vertical-align: middle;\n",
       "    }\n",
       "\n",
       "    .dataframe tbody tr th {\n",
       "        vertical-align: top;\n",
       "    }\n",
       "\n",
       "    .dataframe thead th {\n",
       "        text-align: right;\n",
       "    }\n",
       "</style>\n",
       "<table border=\"1\" class=\"dataframe\">\n",
       "  <thead>\n",
       "    <tr style=\"text-align: right;\">\n",
       "      <th></th>\n",
       "      <th>nmb_movies</th>\n",
       "      <th>av_rating_per_year</th>\n",
       "      <th>av_nmb_ratings</th>\n",
       "    </tr>\n",
       "  </thead>\n",
       "  <tbody>\n",
       "    <tr>\n",
       "      <th>1874</th>\n",
       "      <td>1</td>\n",
       "      <td>3.0</td>\n",
       "      <td>18.0</td>\n",
       "    </tr>\n",
       "    <tr>\n",
       "      <th>1875</th>\n",
       "      <td>0</td>\n",
       "      <td>0.0</td>\n",
       "      <td>0.0</td>\n",
       "    </tr>\n",
       "    <tr>\n",
       "      <th>1876</th>\n",
       "      <td>0</td>\n",
       "      <td>0.0</td>\n",
       "      <td>0.0</td>\n",
       "    </tr>\n",
       "    <tr>\n",
       "      <th>1877</th>\n",
       "      <td>0</td>\n",
       "      <td>0.0</td>\n",
       "      <td>0.0</td>\n",
       "    </tr>\n",
       "    <tr>\n",
       "      <th>1878</th>\n",
       "      <td>1</td>\n",
       "      <td>2.9</td>\n",
       "      <td>22.0</td>\n",
       "    </tr>\n",
       "  </tbody>\n",
       "</table>\n",
       "</div>"
      ],
      "text/plain": [
       "      nmb_movies  av_rating_per_year  av_nmb_ratings\n",
       "1874           1                 3.0            18.0\n",
       "1875           0                 0.0             0.0\n",
       "1876           0                 0.0             0.0\n",
       "1877           0                 0.0             0.0\n",
       "1878           1                 2.9            22.0"
      ]
     },
     "execution_count": 26,
     "metadata": {},
     "output_type": "execute_result"
    }
   ],
   "source": [
    "movies_per_year = pd.DataFrame(movies_per_year, index=range(year_begin, year_end+1))\n",
    "\n",
    "movies_per_year.fillna(0, inplace=True)\n",
    "\n",
    "movies_per_year['nmb_movies'] = movies_per_year['nmb_movies'].astype('int')\n",
    "\n",
    "movies_per_year.head()"
   ]
  },
  {
   "cell_type": "markdown",
   "metadata": {},
   "source": [
    "<br>\n",
    "\n",
    "Number of movies per year:"
   ]
  },
  {
   "cell_type": "code",
   "execution_count": 27,
   "metadata": {
    "scrolled": false
   },
   "outputs": [
    {
     "data": {
      "text/plain": [
       "<matplotlib.axes._subplots.AxesSubplot at 0x7f61a1524550>"
      ]
     },
     "execution_count": 27,
     "metadata": {},
     "output_type": "execute_result"
    },
    {
     "data": {
      "image/png": "[encoded data removed]",
      "text/plain": [
       "<Figure size 1440x720 with 1 Axes>"
      ]
     },
     "metadata": {
      "needs_background": "light"
     },
     "output_type": "display_data"
    }
   ],
   "source": [
    "movies_per_year['nmb_movies'].plot(kind='bar', width=1, figsize=(20,10),\n",
    "                                   color=['#1F77B4', '#5398C6'], fontsize = 14)"
   ]
  },
  {
   "cell_type": "markdown",
   "metadata": {},
   "source": [
    "<br>\n",
    "\n",
    "Average rating of all movies:"
   ]
  },
  {
   "cell_type": "code",
   "execution_count": 28,
   "metadata": {},
   "outputs": [
    {
     "data": {
      "text/plain": [
       "<matplotlib.axes._subplots.AxesSubplot at 0x7f61a02def60>"
      ]
     },
     "execution_count": 28,
     "metadata": {},
     "output_type": "execute_result"
    },
    {
     "data": {
      "image/png": "[encoded data removed]",
      "text/plain": [
       "<Figure size 1440x432 with 1 Axes>"
      ]
     },
     "metadata": {
      "needs_background": "light"
     },
     "output_type": "display_data"
    }
   ],
   "source": [
    "movies_per_year['av_rating_per_year'].plot(kind='bar', width=1, figsize=(20,6),\n",
    "                                           color=['#1F77B4', '#5398C6'], fontsize = 14)"
   ]
  },
  {
   "cell_type": "markdown",
   "metadata": {},
   "source": [
    "<br>\n",
    "\n",
    "Average number of ratings per movie during a year<br>\n",
    "(*that determines average popularity among viewers movies of this year*):"
   ]
  },
  {
   "cell_type": "code",
   "execution_count": 29,
   "metadata": {
    "scrolled": false
   },
   "outputs": [
    {
     "data": {
      "text/plain": [
       "<matplotlib.axes._subplots.AxesSubplot at 0x7f61a00abd30>"
      ]
     },
     "execution_count": 29,
     "metadata": {},
     "output_type": "execute_result"
    },
    {
     "data": {
      "image/png": "[encoded data removed]",
      "text/plain": [
       "<Figure size 1440x720 with 1 Axes>"
      ]
     },
     "metadata": {
      "needs_background": "light"
     },
     "output_type": "display_data"
    }
   ],
   "source": [
    "movies_per_year['av_nmb_ratings'].plot(kind='bar', width=1, figsize=(20,10),\n",
    "                                       color=['#1F77B4', '#5398C6'], fontsize = 14)"
   ]
  },
  {
   "cell_type": "markdown",
   "metadata": {},
   "source": [
    "#### <br>\n",
    "<br>\n",
    "\n",
    "#### Goal 2: Genres of movies during the period"
   ]
  },
  {
   "cell_type": "code",
   "execution_count": 30,
   "metadata": {
    "scrolled": true
   },
   "outputs": [
    {
     "data": {
      "text/html": [
       "<div>\n",
       "<style scoped>\n",
       "    .dataframe tbody tr th:only-of-type {\n",
       "        vertical-align: middle;\n",
       "    }\n",
       "\n",
       "    .dataframe tbody tr th {\n",
       "        vertical-align: top;\n",
       "    }\n",
       "\n",
       "    .dataframe thead th {\n",
       "        text-align: right;\n",
       "    }\n",
       "</style>\n",
       "<table border=\"1\" class=\"dataframe\">\n",
       "  <thead>\n",
       "    <tr style=\"text-align: right;\">\n",
       "      <th></th>\n",
       "      <th>title</th>\n",
       "      <th>year</th>\n",
       "      <th>0</th>\n",
       "      <th>1</th>\n",
       "      <th>2</th>\n",
       "      <th>3</th>\n",
       "      <th>4</th>\n",
       "      <th>5</th>\n",
       "      <th>6</th>\n",
       "    </tr>\n",
       "    <tr>\n",
       "      <th>movieId</th>\n",
       "      <th></th>\n",
       "      <th></th>\n",
       "      <th></th>\n",
       "      <th></th>\n",
       "      <th></th>\n",
       "      <th></th>\n",
       "      <th></th>\n",
       "      <th></th>\n",
       "      <th></th>\n",
       "    </tr>\n",
       "  </thead>\n",
       "  <tbody>\n",
       "    <tr>\n",
       "      <th>148054</th>\n",
       "      <td>Passage de Venus</td>\n",
       "      <td>1874</td>\n",
       "      <td>Documentary</td>\n",
       "      <td>None</td>\n",
       "      <td>None</td>\n",
       "      <td>None</td>\n",
       "      <td>None</td>\n",
       "      <td>None</td>\n",
       "      <td>None</td>\n",
       "    </tr>\n",
       "    <tr>\n",
       "      <th>148048</th>\n",
       "      <td>Sallie Gardner at a Gallop</td>\n",
       "      <td>1878</td>\n",
       "      <td>n/a</td>\n",
       "      <td>None</td>\n",
       "      <td>None</td>\n",
       "      <td>None</td>\n",
       "      <td>None</td>\n",
       "      <td>None</td>\n",
       "      <td>None</td>\n",
       "    </tr>\n",
       "    <tr>\n",
       "      <th>202045</th>\n",
       "      <td>Athlete Swinging a Pick</td>\n",
       "      <td>1880</td>\n",
       "      <td>Documentary</td>\n",
       "      <td>None</td>\n",
       "      <td>None</td>\n",
       "      <td>None</td>\n",
       "      <td>None</td>\n",
       "      <td>None</td>\n",
       "      <td>None</td>\n",
       "    </tr>\n",
       "    <tr>\n",
       "      <th>166800</th>\n",
       "      <td>Buffalo Running</td>\n",
       "      <td>1883</td>\n",
       "      <td>n/a</td>\n",
       "      <td>None</td>\n",
       "      <td>None</td>\n",
       "      <td>None</td>\n",
       "      <td>None</td>\n",
       "      <td>None</td>\n",
       "      <td>None</td>\n",
       "    </tr>\n",
       "    <tr>\n",
       "      <th>148040</th>\n",
       "      <td>Man Walking Around a Corner</td>\n",
       "      <td>1887</td>\n",
       "      <td>n/a</td>\n",
       "      <td>None</td>\n",
       "      <td>None</td>\n",
       "      <td>None</td>\n",
       "      <td>None</td>\n",
       "      <td>None</td>\n",
       "      <td>None</td>\n",
       "    </tr>\n",
       "  </tbody>\n",
       "</table>\n",
       "</div>"
      ],
      "text/plain": [
       "                                title  year            0     1     2     3  \\\n",
       "movieId                                                                      \n",
       "148054              Passage de Venus   1874  Documentary  None  None  None   \n",
       "148048    Sallie Gardner at a Gallop   1878          n/a  None  None  None   \n",
       "202045       Athlete Swinging a Pick   1880  Documentary  None  None  None   \n",
       "166800               Buffalo Running   1883          n/a  None  None  None   \n",
       "148040   Man Walking Around a Corner   1887          n/a  None  None  None   \n",
       "\n",
       "            4     5     6  \n",
       "movieId                    \n",
       "148054   None  None  None  \n",
       "148048   None  None  None  \n",
       "202045   None  None  None  \n",
       "166800   None  None  None  \n",
       "148040   None  None  None  "
      ]
     },
     "execution_count": 30,
     "metadata": {},
     "output_type": "execute_result"
    }
   ],
   "source": [
    "mvs_by_genres = pd.concat([mvs['title'],\n",
    "                           mvs['year'],\n",
    "                           mvs['genres'].str.split('|', expand=True)\n",
    "                          ], axis=1)\n",
    "\n",
    "mvs_by_genres.head()"
   ]
  },
  {
   "cell_type": "markdown",
   "metadata": {},
   "source": [
    "<br>\n",
    "\n",
    "Number of movies of different genres.<br>\n",
    "(*At first, I separately count number of movies in each column, them summarize results in each row, then transfort type of data from float to integer. I'm sure that there's more easy way, but I don't know it.*)"
   ]
  },
  {
   "cell_type": "code",
   "execution_count": 31,
   "metadata": {},
   "outputs": [
    {
     "data": {
      "text/plain": [
       "Drama          2422\n",
       "Comedy         1741\n",
       "Romance        1292\n",
       "Crime           614\n",
       "n/a             582\n",
       "Animation       448\n",
       "Mystery         429\n",
       "Adventure       359\n",
       "Thriller        356\n",
       "War             313\n",
       "Western         310\n",
       "Action          288\n",
       "Musical         272\n",
       "Fantasy         228\n",
       "Horror          212\n",
       "Film-Noir       203\n",
       "Children        166\n",
       "Documentary     149\n",
       "Sci-Fi           91\n",
       "dtype: int64"
      ]
     },
     "execution_count": 31,
     "metadata": {},
     "output_type": "execute_result"
    }
   ],
   "source": [
    "number_genres = mvs_by_genres.iloc[:, 2:].apply(pd.value_counts).sum(axis=1) \\\n",
    "                                         .astype('int').sort_values(ascending=False)\n",
    "number_genres"
   ]
  },
  {
   "cell_type": "markdown",
   "metadata": {},
   "source": [
    "<br>\n",
    "\n",
    "Number of movies per genres:"
   ]
  },
  {
   "cell_type": "code",
   "execution_count": 32,
   "metadata": {
    "scrolled": false
   },
   "outputs": [
    {
     "data": {
      "text/plain": [
       "<matplotlib.axes._subplots.AxesSubplot at 0x7f617872ecf8>"
      ]
     },
     "execution_count": 32,
     "metadata": {},
     "output_type": "execute_result"
    },
    {
     "data": {
      "image/png": "[encoded data removed]",
      "text/plain": [
       "<Figure size 1440x432 with 1 Axes>"
      ]
     },
     "metadata": {
      "needs_background": "light"
     },
     "output_type": "display_data"
    }
   ],
   "source": [
    "number_genres.plot(kind='bar', figsize=(20, 6), fontsize = 16)"
   ]
  },
  {
   "cell_type": "markdown",
   "metadata": {},
   "source": [
    "<br>\n",
    "<br>\n",
    "\n",
    "#### Goal 3: Movies of definite genre per year"
   ]
  },
  {
   "cell_type": "code",
   "execution_count": 33,
   "metadata": {},
   "outputs": [],
   "source": [
    "gnr = 'Documentary'"
   ]
  },
  {
   "cell_type": "markdown",
   "metadata": {},
   "source": [
    "Select movies that contain defined genre in the column 'genres'"
   ]
  },
  {
   "cell_type": "code",
   "execution_count": 34,
   "metadata": {
    "scrolled": true
   },
   "outputs": [
    {
     "data": {
      "text/html": [
       "<div>\n",
       "<style scoped>\n",
       "    .dataframe tbody tr th:only-of-type {\n",
       "        vertical-align: middle;\n",
       "    }\n",
       "\n",
       "    .dataframe tbody tr th {\n",
       "        vertical-align: top;\n",
       "    }\n",
       "\n",
       "    .dataframe thead th {\n",
       "        text-align: right;\n",
       "    }\n",
       "</style>\n",
       "<table border=\"1\" class=\"dataframe\">\n",
       "  <thead>\n",
       "    <tr style=\"text-align: right;\">\n",
       "      <th></th>\n",
       "      <th>title</th>\n",
       "      <th>year</th>\n",
       "      <th>genres</th>\n",
       "      <th>av_rating</th>\n",
       "      <th>nmb_ratings</th>\n",
       "    </tr>\n",
       "    <tr>\n",
       "      <th>movieId</th>\n",
       "      <th></th>\n",
       "      <th></th>\n",
       "      <th></th>\n",
       "      <th></th>\n",
       "      <th></th>\n",
       "    </tr>\n",
       "  </thead>\n",
       "  <tbody>\n",
       "    <tr>\n",
       "      <th>148054</th>\n",
       "      <td>Passage de Venus</td>\n",
       "      <td>1874</td>\n",
       "      <td>Documentary</td>\n",
       "      <td>3.027778</td>\n",
       "      <td>18</td>\n",
       "    </tr>\n",
       "    <tr>\n",
       "      <th>202045</th>\n",
       "      <td>Athlete Swinging a Pick</td>\n",
       "      <td>1880</td>\n",
       "      <td>Documentary</td>\n",
       "      <td>2.666667</td>\n",
       "      <td>3</td>\n",
       "    </tr>\n",
       "    <tr>\n",
       "      <th>148042</th>\n",
       "      <td>Accordion Player</td>\n",
       "      <td>1888</td>\n",
       "      <td>Documentary</td>\n",
       "      <td>1.928571</td>\n",
       "      <td>14</td>\n",
       "    </tr>\n",
       "    <tr>\n",
       "      <th>176849</th>\n",
       "      <td>Roundhay Garden Scene</td>\n",
       "      <td>1888</td>\n",
       "      <td>Documentary</td>\n",
       "      <td>2.605263</td>\n",
       "      <td>19</td>\n",
       "    </tr>\n",
       "    <tr>\n",
       "      <th>148050</th>\n",
       "      <td>Traffic Crossing Leeds Bridge</td>\n",
       "      <td>1888</td>\n",
       "      <td>Documentary</td>\n",
       "      <td>2.375000</td>\n",
       "      <td>20</td>\n",
       "    </tr>\n",
       "  </tbody>\n",
       "</table>\n",
       "</div>"
      ],
      "text/plain": [
       "                                  title  year       genres  av_rating  \\\n",
       "movieId                                                                 \n",
       "148054                Passage de Venus   1874  Documentary   3.027778   \n",
       "202045         Athlete Swinging a Pick   1880  Documentary   2.666667   \n",
       "148042                Accordion Player   1888  Documentary   1.928571   \n",
       "176849           Roundhay Garden Scene   1888  Documentary   2.605263   \n",
       "148050   Traffic Crossing Leeds Bridge   1888  Documentary   2.375000   \n",
       "\n",
       "         nmb_ratings  \n",
       "movieId               \n",
       "148054            18  \n",
       "202045             3  \n",
       "148042            14  \n",
       "176849            19  \n",
       "148050            20  "
      ]
     },
     "execution_count": 34,
     "metadata": {},
     "output_type": "execute_result"
    }
   ],
   "source": [
    "mvs_of_genre = mvs[mvs['genres'].str.contains(gnr)]\n",
    "\n",
    "mvs_of_genre.head()"
   ]
  },
  {
   "cell_type": "markdown",
   "metadata": {},
   "source": [
    "<br>\n",
    "\n",
    "Count number of movies with defined genre per year:"
   ]
  },
  {
   "cell_type": "code",
   "execution_count": 35,
   "metadata": {
    "scrolled": true
   },
   "outputs": [
    {
     "data": {
      "text/plain": [
       "year\n",
       "1874     1\n",
       "1880     1\n",
       "1888     4\n",
       "1891     4\n",
       "1894    14\n",
       "dtype: int64"
      ]
     },
     "execution_count": 35,
     "metadata": {},
     "output_type": "execute_result"
    }
   ],
   "source": [
    "number_mvs_of_genre = mvs_of_genre.groupby('year').size()\n",
    "\n",
    "number_mvs_of_genre.head()"
   ]
  },
  {
   "cell_type": "markdown",
   "metadata": {},
   "source": [
    "<br>\n",
    "\n",
    "Years of the oldest and latest movies of defined genre:"
   ]
  },
  {
   "cell_type": "code",
   "execution_count": 36,
   "metadata": {},
   "outputs": [
    {
     "data": {
      "text/plain": [
       "(1874, 1950)"
      ]
     },
     "execution_count": 36,
     "metadata": {},
     "output_type": "execute_result"
    }
   ],
   "source": [
    "year_genre_oldest = number_mvs_of_genre.index.min()\n",
    "year_genre_latest = number_mvs_of_genre.index.max()\n",
    "\n",
    "year_genre_oldest, year_genre_latest"
   ]
  },
  {
   "cell_type": "markdown",
   "metadata": {},
   "source": [
    "<br>\n",
    "\n",
    "Handle details of the Series:\n",
    "* Fill in years without data with NaN values\n",
    "* Replace NaN by 0\n",
    "* Transform type from float to int"
   ]
  },
  {
   "cell_type": "code",
   "execution_count": 37,
   "metadata": {
    "scrolled": true
   },
   "outputs": [
    {
     "data": {
      "text/plain": [
       "1874    1\n",
       "1875    0\n",
       "1876    0\n",
       "1877    0\n",
       "1878    0\n",
       "dtype: int64"
      ]
     },
     "execution_count": 37,
     "metadata": {},
     "output_type": "execute_result"
    }
   ],
   "source": [
    "number_mvs_of_genre = pd.Series(number_mvs_of_genre, index=range(year_genre_oldest, year_genre_latest+1))\n",
    "number_mvs_of_genre.fillna(0, inplace=True)\n",
    "number_mvs_of_genre = number_mvs_of_genre.astype('int')\n",
    "\n",
    "number_mvs_of_genre.head()"
   ]
  },
  {
   "cell_type": "markdown",
   "metadata": {},
   "source": [
    "Total number of movies of defined genre in defined perios:"
   ]
  },
  {
   "cell_type": "code",
   "execution_count": 38,
   "metadata": {},
   "outputs": [
    {
     "data": {
      "text/plain": [
       "149"
      ]
     },
     "execution_count": 38,
     "metadata": {},
     "output_type": "execute_result"
    }
   ],
   "source": [
    "number_mvs_of_genre.sum()"
   ]
  },
  {
   "cell_type": "markdown",
   "metadata": {},
   "source": [
    "<br>\n",
    "\n",
    "Number of movies of defined genre per year:"
   ]
  },
  {
   "cell_type": "code",
   "execution_count": 39,
   "metadata": {
    "scrolled": false
   },
   "outputs": [
    {
     "data": {
      "text/plain": [
       "<matplotlib.axes._subplots.AxesSubplot at 0x7f617861a7b8>"
      ]
     },
     "execution_count": 39,
     "metadata": {},
     "output_type": "execute_result"
    },
    {
     "data": {
      "image/png": "[encoded data removed]",
      "text/plain": [
       "<Figure size 1440x432 with 1 Axes>"
      ]
     },
     "metadata": {
      "needs_background": "light"
     },
     "output_type": "display_data"
    }
   ],
   "source": [
    "number_mvs_of_genre.plot(kind='bar', width=1, figsize=(20,6),\n",
    "                         color=['#1F77B4', '#5398C6'], fontsize = 14)"
   ]
  },
  {
   "cell_type": "markdown",
   "metadata": {},
   "source": [
    "<br>\n",
    "<br>\n",
    "\n",
    "#### Goal 3-extended: Comparison of movies of several genres"
   ]
  },
  {
   "cell_type": "code",
   "execution_count": 40,
   "metadata": {},
   "outputs": [],
   "source": [
    "import matplotlib.pyplot as plt\n",
    "\n",
    "plt.rcParams['figure.figsize'] = (20, 8)  # plt.rc('figure', figsize=(20, 6))\n",
    "plt.rcParams['font.size'] = 14            # plt.rc('font', size=14)"
   ]
  },
  {
   "cell_type": "code",
   "execution_count": 41,
   "metadata": {
    "scrolled": false
   },
   "outputs": [
    {
     "ename": "SyntaxError",
     "evalue": "invalid syntax (<ipython-input-41-9bdce45b2d84>, line 16)",
     "output_type": "error",
     "traceback": [
      "\u001b[0;36m  File \u001b[0;32m\"<ipython-input-41-9bdce45b2d84>\"\u001b[0;36m, line \u001b[0;32m16\u001b[0m\n\u001b[0;31m    print(f'There is no movies of genre '{gnr}' in this time period')\u001b[0m\n\u001b[0m                                         ^\u001b[0m\n\u001b[0;31mSyntaxError\u001b[0m\u001b[0;31m:\u001b[0m invalid syntax\n"
     ]
    }
   ],
   "source": [
    "gnrs = ['Documentary', 'Animation', 'War']\n",
    "\n",
    "year_graph_oldest = 1911 #year_begin\n",
    "year_graph_latest = year_end\n",
    "\n",
    "styles = ['c--', 'g--', 'r-.', 'm:', 'b--', 'y', 'b:']\n",
    "\n",
    "for i, gnr in enumerate(gnrs):\n",
    "    mvs_with_gnr = mvs_by_genres[(mvs_by_genres.iloc[:, 2:] == gnr).any(axis=1)]\n",
    "    number_mvs_of_genre = mvs_with_gnr.groupby('year').size()\n",
    "    \n",
    "    year_genre_oldest = mvs_with_gnr['year'].min()\n",
    "    year_genre_latest = mvs_with_gnr['year'].max()\n",
    "    \n",
    "    if math.isnan(year_genre_oldest):\n",
    "        print(f'There is no movies of genre '{gnr}' in this time period')\n",
    "        continue\n",
    "    \n",
    "    number_mvs_of_genre = pd.Series(number_mvs_of_genre,\n",
    "                                    index=range(year_genre_oldest, year_genre_latest+1))\n",
    "    number_mvs_of_genre.fillna(0, inplace=True)\n",
    "    number_mvs_of_genre = number_mvs_of_genre.astype('int')\n",
    "\n",
    "    plt.plot(number_mvs_of_genre.index, number_mvs_of_genre, styles[i], label=gnr)\n",
    "\n",
    "plt.xlim(year_graph_oldest, year_graph_latest)\n",
    "plt.ylim(0)\n",
    "\n",
    "labels = range(year_graph_oldest, year_graph_latest+1)\n",
    "plt.xticks(labels, rotation='vertical')\n",
    "\n",
    "plt.legend(loc='upper left')\n",
    "plt.show()"
   ]
  },
  {
   "cell_type": "markdown",
   "metadata": {},
   "source": [
    "<br>\n",
    "<br>\n",
    "\n",
    "#### Goal 4: Combination of defined genre with other genres"
   ]
  },
  {
   "cell_type": "markdown",
   "metadata": {},
   "source": [
    "Select movies with defined genre. For that we use already created  DataFrame 'mvs_with_gnr'.<br>\n",
    "(*Using 'mvs_of_genre' would be simpler way, but boring in terms of programming.*)"
   ]
  },
  {
   "cell_type": "code",
   "execution_count": null,
   "metadata": {},
   "outputs": [],
   "source": [
    "mvs_with_gnr = mvs_by_genres[(mvs_by_genres.iloc[:, 2:] == gnr).any(axis=1)]\n",
    "\n",
    "assert len(mvs_with_gnr) == number_mvs_of_genre.sum(), 'something wrong with number of movies'\n",
    "\n",
    "mvs_with_gnr.head()"
   ]
  },
  {
   "cell_type": "markdown",
   "metadata": {},
   "source": [
    "<br>\n",
    "\n",
    "Count number of adjacent genres. Delete from resulted Series initial genre."
   ]
  },
  {
   "cell_type": "code",
   "execution_count": null,
   "metadata": {
    "scrolled": true
   },
   "outputs": [],
   "source": [
    "number_adjacent_genres = mvs_with_gnr.iloc[:, 2:].apply(pd.value_counts).sum(axis=1) \\\n",
    "                                                 .astype('int').sort_values(ascending=False)\n",
    "\n",
    "number_adjacent_genres.drop(gnr, inplace=True)\n",
    "#alternative: del number_adjacent_genres[gnr]\n",
    "\n",
    "number_adjacent_genres"
   ]
  },
  {
   "cell_type": "markdown",
   "metadata": {},
   "source": [
    "<br>\n",
    "\n",
    "Number of adjacent genres:"
   ]
  },
  {
   "cell_type": "code",
   "execution_count": null,
   "metadata": {
    "scrolled": false
   },
   "outputs": [],
   "source": [
    "number_adjacent_genres.plot(kind='bar', figsize=(20,6), fontsize = 16)"
   ]
  },
  {
   "cell_type": "markdown",
   "metadata": {},
   "source": [
    "Number of movies without adjacent genres:<br>\n",
    "(*I use trick that in such case the second column of genre contains 'None'*)"
   ]
  },
  {
   "cell_type": "code",
   "execution_count": null,
   "metadata": {},
   "outputs": [],
   "source": [
    "len(mvs_with_gnr[mvs_with_gnr[1].isnull()])"
   ]
  }
 ],
 "metadata": {
  "kernelspec": {
   "display_name": "Python 3",
   "language": "python",
   "name": "python3"
  },
  "language_info": {
   "codemirror_mode": {
    "name": "ipython",
    "version": 3
   },
   "file_extension": ".py",
   "mimetype": "text/x-python",
   "name": "python",
   "nbconvert_exporter": "python",
   "pygments_lexer": "ipython3",
   "version": "3.7.3"
  }
 },
 "nbformat": 4,
 "nbformat_minor": 2
}
