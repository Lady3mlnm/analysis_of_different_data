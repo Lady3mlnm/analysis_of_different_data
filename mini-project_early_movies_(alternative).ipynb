{
 "cells": [
  {
   "cell_type": "markdown",
   "metadata": {},
   "source": [
    "**goal**: Repeat steps of the first project with new data base. Make new observations.\n",
    "\n",
    "Used data base: [IMDb movies extensive dataset](https://www.kaggle.com/stefanoleone992/imdb-extensive-dataset)."
   ]
  },
  {
   "cell_type": "code",
   "execution_count": 1,
   "metadata": {},
   "outputs": [],
   "source": [
    "import pandas as pd\n",
    "%matplotlib inline\n",
    "import math\n",
    "\n",
    "PATH_MOVIELENS = '/media/l3m/LinuxFilesBig/1-datasets/IMDb/'"
   ]
  },
  {
   "cell_type": "markdown",
   "metadata": {},
   "source": [
    "<br>\n",
    "\n",
    "#### Preliminary step: Load data bases"
   ]
  },
  {
   "cell_type": "markdown",
   "metadata": {},
   "source": [
    "Load data base with movies:"
   ]
  },
  {
   "cell_type": "code",
   "execution_count": 2,
   "metadata": {
    "scrolled": true
   },
   "outputs": [
    {
     "data": {
      "text/html": [
       "<div>\n",
       "<style scoped>\n",
       "    .dataframe tbody tr th:only-of-type {\n",
       "        vertical-align: middle;\n",
       "    }\n",
       "\n",
       "    .dataframe tbody tr th {\n",
       "        vertical-align: top;\n",
       "    }\n",
       "\n",
       "    .dataframe thead th {\n",
       "        text-align: right;\n",
       "    }\n",
       "</style>\n",
       "<table border=\"1\" class=\"dataframe\">\n",
       "  <thead>\n",
       "    <tr style=\"text-align: right;\">\n",
       "      <th></th>\n",
       "      <th>title</th>\n",
       "      <th>original_title</th>\n",
       "      <th>year</th>\n",
       "      <th>date_published</th>\n",
       "      <th>genre</th>\n",
       "      <th>duration</th>\n",
       "      <th>country</th>\n",
       "      <th>language</th>\n",
       "      <th>director</th>\n",
       "      <th>writer</th>\n",
       "      <th>...</th>\n",
       "      <th>actors</th>\n",
       "      <th>description</th>\n",
       "      <th>avg_vote</th>\n",
       "      <th>votes</th>\n",
       "      <th>budget</th>\n",
       "      <th>usa_gross_income</th>\n",
       "      <th>worlwide_gross_income</th>\n",
       "      <th>metascore</th>\n",
       "      <th>reviews_from_users</th>\n",
       "      <th>reviews_from_critics</th>\n",
       "    </tr>\n",
       "    <tr>\n",
       "      <th>imdb_title_id</th>\n",
       "      <th></th>\n",
       "      <th></th>\n",
       "      <th></th>\n",
       "      <th></th>\n",
       "      <th></th>\n",
       "      <th></th>\n",
       "      <th></th>\n",
       "      <th></th>\n",
       "      <th></th>\n",
       "      <th></th>\n",
       "      <th></th>\n",
       "      <th></th>\n",
       "      <th></th>\n",
       "      <th></th>\n",
       "      <th></th>\n",
       "      <th></th>\n",
       "      <th></th>\n",
       "      <th></th>\n",
       "      <th></th>\n",
       "      <th></th>\n",
       "      <th></th>\n",
       "    </tr>\n",
       "  </thead>\n",
       "  <tbody>\n",
       "    <tr>\n",
       "      <th>tt0000574</th>\n",
       "      <td>The Story of the Kelly Gang</td>\n",
       "      <td>The Story of the Kelly Gang</td>\n",
       "      <td>1906</td>\n",
       "      <td>1906-12-26</td>\n",
       "      <td>Biography, Crime, Drama</td>\n",
       "      <td>70</td>\n",
       "      <td>Australia</td>\n",
       "      <td>NaN</td>\n",
       "      <td>Charles Tait</td>\n",
       "      <td>Charles Tait</td>\n",
       "      <td>...</td>\n",
       "      <td>Elizabeth Tait, John Tait, Norman Campbell, Be...</td>\n",
       "      <td>True story of notorious Australian outlaw Ned ...</td>\n",
       "      <td>6.1</td>\n",
       "      <td>537</td>\n",
       "      <td>$ 2250</td>\n",
       "      <td>NaN</td>\n",
       "      <td>NaN</td>\n",
       "      <td>NaN</td>\n",
       "      <td>7.0</td>\n",
       "      <td>7.0</td>\n",
       "    </tr>\n",
       "    <tr>\n",
       "      <th>tt0001892</th>\n",
       "      <td>Den sorte drøm</td>\n",
       "      <td>Den sorte drøm</td>\n",
       "      <td>1911</td>\n",
       "      <td>1911-08-19</td>\n",
       "      <td>Drama</td>\n",
       "      <td>53</td>\n",
       "      <td>Germany, Denmark</td>\n",
       "      <td>NaN</td>\n",
       "      <td>Urban Gad</td>\n",
       "      <td>Urban Gad, Gebhard Schätzler-Perasini</td>\n",
       "      <td>...</td>\n",
       "      <td>Asta Nielsen, Valdemar Psilander, Gunnar Helse...</td>\n",
       "      <td>Two men of high rank are both wooing the beaut...</td>\n",
       "      <td>5.9</td>\n",
       "      <td>171</td>\n",
       "      <td>NaN</td>\n",
       "      <td>NaN</td>\n",
       "      <td>NaN</td>\n",
       "      <td>NaN</td>\n",
       "      <td>4.0</td>\n",
       "      <td>2.0</td>\n",
       "    </tr>\n",
       "    <tr>\n",
       "      <th>tt0002101</th>\n",
       "      <td>Cleopatra</td>\n",
       "      <td>Cleopatra</td>\n",
       "      <td>1912</td>\n",
       "      <td>1912-11-13</td>\n",
       "      <td>Drama, History</td>\n",
       "      <td>100</td>\n",
       "      <td>USA</td>\n",
       "      <td>English</td>\n",
       "      <td>Charles L. Gaskill</td>\n",
       "      <td>Victorien Sardou</td>\n",
       "      <td>...</td>\n",
       "      <td>Helen Gardner, Pearl Sindelar, Miss Fielding, ...</td>\n",
       "      <td>The fabled queen of Egypt's affair with Roman ...</td>\n",
       "      <td>5.2</td>\n",
       "      <td>420</td>\n",
       "      <td>$ 45000</td>\n",
       "      <td>NaN</td>\n",
       "      <td>NaN</td>\n",
       "      <td>NaN</td>\n",
       "      <td>24.0</td>\n",
       "      <td>3.0</td>\n",
       "    </tr>\n",
       "  </tbody>\n",
       "</table>\n",
       "<p>3 rows × 21 columns</p>\n",
       "</div>"
      ],
      "text/plain": [
       "                                     title               original_title  year  \\\n",
       "imdb_title_id                                                                   \n",
       "tt0000574      The Story of the Kelly Gang  The Story of the Kelly Gang  1906   \n",
       "tt0001892                   Den sorte drøm               Den sorte drøm  1911   \n",
       "tt0002101                        Cleopatra                    Cleopatra  1912   \n",
       "\n",
       "              date_published                    genre  duration  \\\n",
       "imdb_title_id                                                     \n",
       "tt0000574         1906-12-26  Biography, Crime, Drama        70   \n",
       "tt0001892         1911-08-19                    Drama        53   \n",
       "tt0002101         1912-11-13           Drama, History       100   \n",
       "\n",
       "                        country language            director  \\\n",
       "imdb_title_id                                                  \n",
       "tt0000574             Australia      NaN        Charles Tait   \n",
       "tt0001892      Germany, Denmark      NaN           Urban Gad   \n",
       "tt0002101                   USA  English  Charles L. Gaskill   \n",
       "\n",
       "                                              writer  ...  \\\n",
       "imdb_title_id                                         ...   \n",
       "tt0000574                               Charles Tait  ...   \n",
       "tt0001892      Urban Gad, Gebhard Schätzler-Perasini  ...   \n",
       "tt0002101                           Victorien Sardou  ...   \n",
       "\n",
       "                                                          actors  \\\n",
       "imdb_title_id                                                      \n",
       "tt0000574      Elizabeth Tait, John Tait, Norman Campbell, Be...   \n",
       "tt0001892      Asta Nielsen, Valdemar Psilander, Gunnar Helse...   \n",
       "tt0002101      Helen Gardner, Pearl Sindelar, Miss Fielding, ...   \n",
       "\n",
       "                                                     description avg_vote  \\\n",
       "imdb_title_id                                                               \n",
       "tt0000574      True story of notorious Australian outlaw Ned ...      6.1   \n",
       "tt0001892      Two men of high rank are both wooing the beaut...      5.9   \n",
       "tt0002101      The fabled queen of Egypt's affair with Roman ...      5.2   \n",
       "\n",
       "               votes   budget usa_gross_income worlwide_gross_income  \\\n",
       "imdb_title_id                                                          \n",
       "tt0000574        537   $ 2250              NaN                   NaN   \n",
       "tt0001892        171      NaN              NaN                   NaN   \n",
       "tt0002101        420  $ 45000              NaN                   NaN   \n",
       "\n",
       "              metascore  reviews_from_users  reviews_from_critics  \n",
       "imdb_title_id                                                      \n",
       "tt0000574           NaN                 7.0                   7.0  \n",
       "tt0001892           NaN                 4.0                   2.0  \n",
       "tt0002101           NaN                24.0                   3.0  \n",
       "\n",
       "[3 rows x 21 columns]"
      ]
     },
     "execution_count": 2,
     "metadata": {},
     "output_type": "execute_result"
    }
   ],
   "source": [
    "movies = pd.read_csv(PATH_MOVIELENS+'IMDb movies.csv', index_col=0)\n",
    "movies.head(3)"
   ]
  },
  {
   "cell_type": "markdown",
   "metadata": {},
   "source": [
    "<br>\n",
    "\n",
    "Remove some redundants columns. Rename some others.<br>\n",
    "(*Columns 'usa_gross_income', 'worlwide_gross_income', 'metascore' have too little values to analyze them.<br>\n",
    "Columns 'budget' is empty at 72% and nontains value in different currencies.*)"
   ]
  },
  {
   "cell_type": "code",
   "execution_count": 3,
   "metadata": {},
   "outputs": [
    {
     "data": {
      "text/html": [
       "<div>\n",
       "<style scoped>\n",
       "    .dataframe tbody tr th:only-of-type {\n",
       "        vertical-align: middle;\n",
       "    }\n",
       "\n",
       "    .dataframe tbody tr th {\n",
       "        vertical-align: top;\n",
       "    }\n",
       "\n",
       "    .dataframe thead th {\n",
       "        text-align: right;\n",
       "    }\n",
       "</style>\n",
       "<table border=\"1\" class=\"dataframe\">\n",
       "  <thead>\n",
       "    <tr style=\"text-align: right;\">\n",
       "      <th></th>\n",
       "      <th>title</th>\n",
       "      <th>year</th>\n",
       "      <th>genre</th>\n",
       "      <th>duration</th>\n",
       "      <th>country</th>\n",
       "      <th>language</th>\n",
       "      <th>description</th>\n",
       "      <th>av_rating</th>\n",
       "      <th>nmb_ratings</th>\n",
       "      <th>reviews_from_users</th>\n",
       "      <th>reviews_from_critics</th>\n",
       "    </tr>\n",
       "    <tr>\n",
       "      <th>imdb_id</th>\n",
       "      <th></th>\n",
       "      <th></th>\n",
       "      <th></th>\n",
       "      <th></th>\n",
       "      <th></th>\n",
       "      <th></th>\n",
       "      <th></th>\n",
       "      <th></th>\n",
       "      <th></th>\n",
       "      <th></th>\n",
       "      <th></th>\n",
       "    </tr>\n",
       "  </thead>\n",
       "  <tbody>\n",
       "    <tr>\n",
       "      <th>tt0000574</th>\n",
       "      <td>The Story of the Kelly Gang</td>\n",
       "      <td>1906</td>\n",
       "      <td>Biography, Crime, Drama</td>\n",
       "      <td>70</td>\n",
       "      <td>Australia</td>\n",
       "      <td>NaN</td>\n",
       "      <td>True story of notorious Australian outlaw Ned ...</td>\n",
       "      <td>6.1</td>\n",
       "      <td>537</td>\n",
       "      <td>7.0</td>\n",
       "      <td>7.0</td>\n",
       "    </tr>\n",
       "    <tr>\n",
       "      <th>tt0001892</th>\n",
       "      <td>Den sorte drøm</td>\n",
       "      <td>1911</td>\n",
       "      <td>Drama</td>\n",
       "      <td>53</td>\n",
       "      <td>Germany, Denmark</td>\n",
       "      <td>NaN</td>\n",
       "      <td>Two men of high rank are both wooing the beaut...</td>\n",
       "      <td>5.9</td>\n",
       "      <td>171</td>\n",
       "      <td>4.0</td>\n",
       "      <td>2.0</td>\n",
       "    </tr>\n",
       "    <tr>\n",
       "      <th>tt0002101</th>\n",
       "      <td>Cleopatra</td>\n",
       "      <td>1912</td>\n",
       "      <td>Drama, History</td>\n",
       "      <td>100</td>\n",
       "      <td>USA</td>\n",
       "      <td>English</td>\n",
       "      <td>The fabled queen of Egypt's affair with Roman ...</td>\n",
       "      <td>5.2</td>\n",
       "      <td>420</td>\n",
       "      <td>24.0</td>\n",
       "      <td>3.0</td>\n",
       "    </tr>\n",
       "  </tbody>\n",
       "</table>\n",
       "</div>"
      ],
      "text/plain": [
       "                                 title  year                    genre  \\\n",
       "imdb_id                                                                 \n",
       "tt0000574  The Story of the Kelly Gang  1906  Biography, Crime, Drama   \n",
       "tt0001892               Den sorte drøm  1911                    Drama   \n",
       "tt0002101                    Cleopatra  1912           Drama, History   \n",
       "\n",
       "           duration           country language  \\\n",
       "imdb_id                                          \n",
       "tt0000574        70         Australia      NaN   \n",
       "tt0001892        53  Germany, Denmark      NaN   \n",
       "tt0002101       100               USA  English   \n",
       "\n",
       "                                                 description  av_rating  \\\n",
       "imdb_id                                                                   \n",
       "tt0000574  True story of notorious Australian outlaw Ned ...        6.1   \n",
       "tt0001892  Two men of high rank are both wooing the beaut...        5.9   \n",
       "tt0002101  The fabled queen of Egypt's affair with Roman ...        5.2   \n",
       "\n",
       "           nmb_ratings  reviews_from_users  reviews_from_critics  \n",
       "imdb_id                                                           \n",
       "tt0000574          537                 7.0                   7.0  \n",
       "tt0001892          171                 4.0                   2.0  \n",
       "tt0002101          420                24.0                   3.0  "
      ]
     },
     "execution_count": 3,
     "metadata": {},
     "output_type": "execute_result"
    }
   ],
   "source": [
    "movies.drop(['original_title', 'date_published', 'director', 'writer', 'production_company', 'actors',\n",
    "             'budget', 'usa_gross_income', 'worlwide_gross_income', 'metascore'],\n",
    "            axis=1, inplace=True)\n",
    "\n",
    "movies.rename(columns={'avg_vote':'av_rating', 'votes':'nmb_ratings'}, inplace=True)\n",
    "movies.rename_axis('imdb_id', axis='rows', inplace=True)\n",
    "\n",
    "movies.head(3)"
   ]
  },
  {
   "cell_type": "markdown",
   "metadata": {},
   "source": [
    "<br>\n",
    "\n",
    "Combine reviews from users and critics."
   ]
  },
  {
   "cell_type": "code",
   "execution_count": 4,
   "metadata": {},
   "outputs": [
    {
     "data": {
      "text/html": [
       "<div>\n",
       "<style scoped>\n",
       "    .dataframe tbody tr th:only-of-type {\n",
       "        vertical-align: middle;\n",
       "    }\n",
       "\n",
       "    .dataframe tbody tr th {\n",
       "        vertical-align: top;\n",
       "    }\n",
       "\n",
       "    .dataframe thead th {\n",
       "        text-align: right;\n",
       "    }\n",
       "</style>\n",
       "<table border=\"1\" class=\"dataframe\">\n",
       "  <thead>\n",
       "    <tr style=\"text-align: right;\">\n",
       "      <th></th>\n",
       "      <th>title</th>\n",
       "      <th>year</th>\n",
       "      <th>genre</th>\n",
       "      <th>duration</th>\n",
       "      <th>country</th>\n",
       "      <th>language</th>\n",
       "      <th>description</th>\n",
       "      <th>av_rating</th>\n",
       "      <th>nmb_ratings</th>\n",
       "      <th>reviews</th>\n",
       "    </tr>\n",
       "    <tr>\n",
       "      <th>imdb_id</th>\n",
       "      <th></th>\n",
       "      <th></th>\n",
       "      <th></th>\n",
       "      <th></th>\n",
       "      <th></th>\n",
       "      <th></th>\n",
       "      <th></th>\n",
       "      <th></th>\n",
       "      <th></th>\n",
       "      <th></th>\n",
       "    </tr>\n",
       "  </thead>\n",
       "  <tbody>\n",
       "    <tr>\n",
       "      <th>tt0000574</th>\n",
       "      <td>The Story of the Kelly Gang</td>\n",
       "      <td>1906</td>\n",
       "      <td>Biography, Crime, Drama</td>\n",
       "      <td>70</td>\n",
       "      <td>Australia</td>\n",
       "      <td>NaN</td>\n",
       "      <td>True story of notorious Australian outlaw Ned ...</td>\n",
       "      <td>6.1</td>\n",
       "      <td>537</td>\n",
       "      <td>14.0</td>\n",
       "    </tr>\n",
       "    <tr>\n",
       "      <th>tt0001892</th>\n",
       "      <td>Den sorte drøm</td>\n",
       "      <td>1911</td>\n",
       "      <td>Drama</td>\n",
       "      <td>53</td>\n",
       "      <td>Germany, Denmark</td>\n",
       "      <td>NaN</td>\n",
       "      <td>Two men of high rank are both wooing the beaut...</td>\n",
       "      <td>5.9</td>\n",
       "      <td>171</td>\n",
       "      <td>6.0</td>\n",
       "    </tr>\n",
       "    <tr>\n",
       "      <th>tt0002101</th>\n",
       "      <td>Cleopatra</td>\n",
       "      <td>1912</td>\n",
       "      <td>Drama, History</td>\n",
       "      <td>100</td>\n",
       "      <td>USA</td>\n",
       "      <td>English</td>\n",
       "      <td>The fabled queen of Egypt's affair with Roman ...</td>\n",
       "      <td>5.2</td>\n",
       "      <td>420</td>\n",
       "      <td>27.0</td>\n",
       "    </tr>\n",
       "  </tbody>\n",
       "</table>\n",
       "</div>"
      ],
      "text/plain": [
       "                                 title  year                    genre  \\\n",
       "imdb_id                                                                 \n",
       "tt0000574  The Story of the Kelly Gang  1906  Biography, Crime, Drama   \n",
       "tt0001892               Den sorte drøm  1911                    Drama   \n",
       "tt0002101                    Cleopatra  1912           Drama, History   \n",
       "\n",
       "           duration           country language  \\\n",
       "imdb_id                                          \n",
       "tt0000574        70         Australia      NaN   \n",
       "tt0001892        53  Germany, Denmark      NaN   \n",
       "tt0002101       100               USA  English   \n",
       "\n",
       "                                                 description  av_rating  \\\n",
       "imdb_id                                                                   \n",
       "tt0000574  True story of notorious Australian outlaw Ned ...        6.1   \n",
       "tt0001892  Two men of high rank are both wooing the beaut...        5.9   \n",
       "tt0002101  The fabled queen of Egypt's affair with Roman ...        5.2   \n",
       "\n",
       "           nmb_ratings  reviews  \n",
       "imdb_id                          \n",
       "tt0000574          537     14.0  \n",
       "tt0001892          171      6.0  \n",
       "tt0002101          420     27.0  "
      ]
     },
     "execution_count": 4,
     "metadata": {},
     "output_type": "execute_result"
    }
   ],
   "source": [
    "movies['reviews'] = movies['reviews_from_users'] + movies['reviews_from_critics']\n",
    "\n",
    "movies.drop(['reviews_from_users', 'reviews_from_critics'],\n",
    "            axis=1, inplace=True)\n",
    "\n",
    "movies.head(3)"
   ]
  },
  {
   "cell_type": "markdown",
   "metadata": {},
   "source": [
    "<br>\n",
    "\n",
    "Some checks."
   ]
  },
  {
   "cell_type": "code",
   "execution_count": 5,
   "metadata": {
    "scrolled": false
   },
   "outputs": [],
   "source": [
    "from datetime import date\n",
    "current_year = date.today().year\n",
    "\n",
    "#Alternative:\n",
    "# from datetime import datetime\n",
    "# current_year = datetime.now().year  # but datetime.now() returns more information,\n",
    "                                      # so for such case it's worse\n",
    "\n",
    "assert movies['year'].notnull().all(), \"There're movies without a year information\"\n",
    "assert (movies['year'] >= 1874).all(), \"There's year less than 1874. It's interesting.\"\n",
    "assert (movies['year'] <= current_year).all(), \"There's year greater than current\"\n",
    "\n",
    "assert movies['av_rating'].notnull().all(), \"There're movies without rating\"\n",
    "assert (movies['av_rating'] >= 1.0).all(), \"There're movie with rating less than 1.0\"\n",
    "assert (movies['av_rating'] <= 10.0).all(), \"There're movie with rating more than 10.0\""
   ]
  },
  {
   "cell_type": "markdown",
   "metadata": {},
   "source": [
    "<br>\n",
    "\n",
    "Sort movies by year."
   ]
  },
  {
   "cell_type": "code",
   "execution_count": 6,
   "metadata": {},
   "outputs": [],
   "source": [
    "movies.sort_values(by='year', inplace=True)"
   ]
  },
  {
   "cell_type": "markdown",
   "metadata": {},
   "source": [
    "<br>\n",
    "\n",
    "Some cells in the columns 'reviews_from_users' and 'reviews_from_critics' contain `NaN` values. Change them to `0`. It can be not fully correct but allow to simplify further processing of information.\n",
    "\n",
    "Also transform type of data in these columns from `float` to `int`."
   ]
  },
  {
   "cell_type": "code",
   "execution_count": 7,
   "metadata": {
    "scrolled": true
   },
   "outputs": [
    {
     "data": {
      "text/plain": [
       "title           object\n",
       "year             int64\n",
       "genre           object\n",
       "duration         int64\n",
       "country         object\n",
       "language        object\n",
       "description     object\n",
       "av_rating      float64\n",
       "nmb_ratings      int64\n",
       "reviews          int64\n",
       "dtype: object"
      ]
     },
     "execution_count": 7,
     "metadata": {},
     "output_type": "execute_result"
    }
   ],
   "source": [
    "movies['reviews'].fillna(0, inplace=True)\n",
    "\n",
    "movies['reviews'] = movies['reviews'].astype('int')\n",
    "\n",
    "movies.dtypes"
   ]
  },
  {
   "cell_type": "markdown",
   "metadata": {},
   "source": [
    "<br>\n",
    "Change order of columns."
   ]
  },
  {
   "cell_type": "code",
   "execution_count": 8,
   "metadata": {},
   "outputs": [
    {
     "data": {
      "text/html": [
       "<div>\n",
       "<style scoped>\n",
       "    .dataframe tbody tr th:only-of-type {\n",
       "        vertical-align: middle;\n",
       "    }\n",
       "\n",
       "    .dataframe tbody tr th {\n",
       "        vertical-align: top;\n",
       "    }\n",
       "\n",
       "    .dataframe thead th {\n",
       "        text-align: right;\n",
       "    }\n",
       "</style>\n",
       "<table border=\"1\" class=\"dataframe\">\n",
       "  <thead>\n",
       "    <tr style=\"text-align: right;\">\n",
       "      <th></th>\n",
       "      <th>title</th>\n",
       "      <th>year</th>\n",
       "      <th>genre</th>\n",
       "      <th>av_rating</th>\n",
       "      <th>nmb_ratings</th>\n",
       "      <th>reviews</th>\n",
       "      <th>duration</th>\n",
       "      <th>country</th>\n",
       "      <th>language</th>\n",
       "      <th>description</th>\n",
       "    </tr>\n",
       "    <tr>\n",
       "      <th>imdb_id</th>\n",
       "      <th></th>\n",
       "      <th></th>\n",
       "      <th></th>\n",
       "      <th></th>\n",
       "      <th></th>\n",
       "      <th></th>\n",
       "      <th></th>\n",
       "      <th></th>\n",
       "      <th></th>\n",
       "      <th></th>\n",
       "    </tr>\n",
       "  </thead>\n",
       "  <tbody>\n",
       "    <tr>\n",
       "      <th>tt0000574</th>\n",
       "      <td>The Story of the Kelly Gang</td>\n",
       "      <td>1906</td>\n",
       "      <td>Biography, Crime, Drama</td>\n",
       "      <td>6.1</td>\n",
       "      <td>537</td>\n",
       "      <td>14</td>\n",
       "      <td>70</td>\n",
       "      <td>Australia</td>\n",
       "      <td>NaN</td>\n",
       "      <td>True story of notorious Australian outlaw Ned ...</td>\n",
       "    </tr>\n",
       "    <tr>\n",
       "      <th>tt0191323</th>\n",
       "      <td>Oborona Sevastopolya</td>\n",
       "      <td>1911</td>\n",
       "      <td>History, War</td>\n",
       "      <td>6.0</td>\n",
       "      <td>130</td>\n",
       "      <td>0</td>\n",
       "      <td>100</td>\n",
       "      <td>Russia</td>\n",
       "      <td>NaN</td>\n",
       "      <td>First film ever that was shot by two cameras. ...</td>\n",
       "    </tr>\n",
       "    <tr>\n",
       "      <th>tt0002130</th>\n",
       "      <td>L'Inferno</td>\n",
       "      <td>1911</td>\n",
       "      <td>Adventure, Drama, Fantasy</td>\n",
       "      <td>7.0</td>\n",
       "      <td>2019</td>\n",
       "      <td>42</td>\n",
       "      <td>68</td>\n",
       "      <td>Italy</td>\n",
       "      <td>Italian</td>\n",
       "      <td>Loosely adapted from Dante's Divine Comedy and...</td>\n",
       "    </tr>\n",
       "  </tbody>\n",
       "</table>\n",
       "</div>"
      ],
      "text/plain": [
       "                                 title  year                      genre  \\\n",
       "imdb_id                                                                   \n",
       "tt0000574  The Story of the Kelly Gang  1906    Biography, Crime, Drama   \n",
       "tt0191323         Oborona Sevastopolya  1911               History, War   \n",
       "tt0002130                    L'Inferno  1911  Adventure, Drama, Fantasy   \n",
       "\n",
       "           av_rating  nmb_ratings  reviews  duration    country language  \\\n",
       "imdb_id                                                                    \n",
       "tt0000574        6.1          537       14        70  Australia      NaN   \n",
       "tt0191323        6.0          130        0       100     Russia      NaN   \n",
       "tt0002130        7.0         2019       42        68      Italy  Italian   \n",
       "\n",
       "                                                 description  \n",
       "imdb_id                                                       \n",
       "tt0000574  True story of notorious Australian outlaw Ned ...  \n",
       "tt0191323  First film ever that was shot by two cameras. ...  \n",
       "tt0002130  Loosely adapted from Dante's Divine Comedy and...  "
      ]
     },
     "execution_count": 8,
     "metadata": {},
     "output_type": "execute_result"
    }
   ],
   "source": [
    "cols = movies.columns.tolist()\n",
    "cols = cols[:3] + cols[7:] + cols[3:7]\n",
    "movies = movies[cols]\n",
    "\n",
    "movies.head(3)"
   ]
  },
  {
   "cell_type": "markdown",
   "metadata": {},
   "source": [
    "<br>\n",
    "<br>\n",
    "\n",
    "#### Goal 1: Plot different characteristics of movies per year"
   ]
  },
  {
   "cell_type": "code",
   "execution_count": 9,
   "metadata": {},
   "outputs": [],
   "source": [
    "year_begin = 0\n",
    "year_end = 1950"
   ]
  },
  {
   "cell_type": "markdown",
   "metadata": {},
   "source": [
    "Find earliest and latest movies in the DataFrame. Use this information to correct variables `year_begin` and `year_end` to eliminate blank ends."
   ]
  },
  {
   "cell_type": "code",
   "execution_count": 10,
   "metadata": {},
   "outputs": [
    {
     "data": {
      "text/plain": [
       "(1906, 1950)"
      ]
     },
     "execution_count": 10,
     "metadata": {},
     "output_type": "execute_result"
    }
   ],
   "source": [
    "earliest_movie = movies['year'].min()\n",
    "latest_movie = movies['year'].max()\n",
    "\n",
    "year_begin = max(year_begin, earliest_movie)\n",
    "year_end = min(year_end, latest_movie)\n",
    "\n",
    "year_begin, year_end"
   ]
  },
  {
   "cell_type": "markdown",
   "metadata": {},
   "source": [
    "<br>\n",
    "\n",
    "Create subset of 'movies' DataFrame to work with it more conveniently:"
   ]
  },
  {
   "cell_type": "code",
   "execution_count": 11,
   "metadata": {
    "scrolled": true
   },
   "outputs": [
    {
     "data": {
      "text/html": [
       "<div>\n",
       "<style scoped>\n",
       "    .dataframe tbody tr th:only-of-type {\n",
       "        vertical-align: middle;\n",
       "    }\n",
       "\n",
       "    .dataframe tbody tr th {\n",
       "        vertical-align: top;\n",
       "    }\n",
       "\n",
       "    .dataframe thead th {\n",
       "        text-align: right;\n",
       "    }\n",
       "</style>\n",
       "<table border=\"1\" class=\"dataframe\">\n",
       "  <thead>\n",
       "    <tr style=\"text-align: right;\">\n",
       "      <th></th>\n",
       "      <th>title</th>\n",
       "      <th>year</th>\n",
       "      <th>genre</th>\n",
       "      <th>av_rating</th>\n",
       "      <th>nmb_ratings</th>\n",
       "      <th>reviews</th>\n",
       "      <th>duration</th>\n",
       "      <th>country</th>\n",
       "      <th>language</th>\n",
       "      <th>description</th>\n",
       "    </tr>\n",
       "    <tr>\n",
       "      <th>imdb_id</th>\n",
       "      <th></th>\n",
       "      <th></th>\n",
       "      <th></th>\n",
       "      <th></th>\n",
       "      <th></th>\n",
       "      <th></th>\n",
       "      <th></th>\n",
       "      <th></th>\n",
       "      <th></th>\n",
       "      <th></th>\n",
       "    </tr>\n",
       "  </thead>\n",
       "  <tbody>\n",
       "    <tr>\n",
       "      <th>tt0000574</th>\n",
       "      <td>The Story of the Kelly Gang</td>\n",
       "      <td>1906</td>\n",
       "      <td>Biography, Crime, Drama</td>\n",
       "      <td>6.1</td>\n",
       "      <td>537</td>\n",
       "      <td>14</td>\n",
       "      <td>70</td>\n",
       "      <td>Australia</td>\n",
       "      <td>NaN</td>\n",
       "      <td>True story of notorious Australian outlaw Ned ...</td>\n",
       "    </tr>\n",
       "    <tr>\n",
       "      <th>tt0191323</th>\n",
       "      <td>Oborona Sevastopolya</td>\n",
       "      <td>1911</td>\n",
       "      <td>History, War</td>\n",
       "      <td>6.0</td>\n",
       "      <td>130</td>\n",
       "      <td>0</td>\n",
       "      <td>100</td>\n",
       "      <td>Russia</td>\n",
       "      <td>NaN</td>\n",
       "      <td>First film ever that was shot by two cameras. ...</td>\n",
       "    </tr>\n",
       "    <tr>\n",
       "      <th>tt0002130</th>\n",
       "      <td>L'Inferno</td>\n",
       "      <td>1911</td>\n",
       "      <td>Adventure, Drama, Fantasy</td>\n",
       "      <td>7.0</td>\n",
       "      <td>2019</td>\n",
       "      <td>42</td>\n",
       "      <td>68</td>\n",
       "      <td>Italy</td>\n",
       "      <td>Italian</td>\n",
       "      <td>Loosely adapted from Dante's Divine Comedy and...</td>\n",
       "    </tr>\n",
       "    <tr>\n",
       "      <th>tt0266688</th>\n",
       "      <td>Karadjordje</td>\n",
       "      <td>1911</td>\n",
       "      <td>Drama, War</td>\n",
       "      <td>6.3</td>\n",
       "      <td>145</td>\n",
       "      <td>0</td>\n",
       "      <td>80</td>\n",
       "      <td>Serbia</td>\n",
       "      <td>Serbian</td>\n",
       "      <td>This is the oldest found dramatic film from Se...</td>\n",
       "    </tr>\n",
       "    <tr>\n",
       "      <th>tt0001892</th>\n",
       "      <td>Den sorte drøm</td>\n",
       "      <td>1911</td>\n",
       "      <td>Drama</td>\n",
       "      <td>5.9</td>\n",
       "      <td>171</td>\n",
       "      <td>6</td>\n",
       "      <td>53</td>\n",
       "      <td>Germany, Denmark</td>\n",
       "      <td>NaN</td>\n",
       "      <td>Two men of high rank are both wooing the beaut...</td>\n",
       "    </tr>\n",
       "  </tbody>\n",
       "</table>\n",
       "</div>"
      ],
      "text/plain": [
       "                                 title  year                      genre  \\\n",
       "imdb_id                                                                   \n",
       "tt0000574  The Story of the Kelly Gang  1906    Biography, Crime, Drama   \n",
       "tt0191323         Oborona Sevastopolya  1911               History, War   \n",
       "tt0002130                    L'Inferno  1911  Adventure, Drama, Fantasy   \n",
       "tt0266688                  Karadjordje  1911                 Drama, War   \n",
       "tt0001892               Den sorte drøm  1911                      Drama   \n",
       "\n",
       "           av_rating  nmb_ratings  reviews  duration           country  \\\n",
       "imdb_id                                                                  \n",
       "tt0000574        6.1          537       14        70         Australia   \n",
       "tt0191323        6.0          130        0       100            Russia   \n",
       "tt0002130        7.0         2019       42        68             Italy   \n",
       "tt0266688        6.3          145        0        80            Serbia   \n",
       "tt0001892        5.9          171        6        53  Germany, Denmark   \n",
       "\n",
       "          language                                        description  \n",
       "imdb_id                                                                \n",
       "tt0000574      NaN  True story of notorious Australian outlaw Ned ...  \n",
       "tt0191323      NaN  First film ever that was shot by two cameras. ...  \n",
       "tt0002130  Italian  Loosely adapted from Dante's Divine Comedy and...  \n",
       "tt0266688  Serbian  This is the oldest found dramatic film from Se...  \n",
       "tt0001892      NaN  Two men of high rank are both wooing the beaut...  "
      ]
     },
     "execution_count": 11,
     "metadata": {},
     "output_type": "execute_result"
    }
   ],
   "source": [
    "mvs = movies[(movies['year'] >= year_begin) & (movies['year'] <= year_end)]\n",
    "\n",
    "mvs.head()"
   ]
  },
  {
   "cell_type": "markdown",
   "metadata": {},
   "source": [
    "<br>\n",
    "\n",
    "Some simple statistics about this period just for general familiarization:"
   ]
  },
  {
   "cell_type": "code",
   "execution_count": 12,
   "metadata": {},
   "outputs": [
    {
     "name": "stdout",
     "output_type": "stream",
     "text": [
      "Number of movies                   : 6589\n",
      "Average rating of all movies       : 6.5\n",
      "Std deviation of average ratings   : 0.71\n",
      "Average number of ratings per movie: 2237.1\n",
      "Average number of reviews          : 34.2\n",
      "Average duration of movie          : 87\n",
      "Correlation between number of ratings and number of reviews: 0.816\n"
     ]
    }
   ],
   "source": [
    "print('Number of movies                   :', len(mvs))\n",
    "print('Average rating of all movies       :', round(mvs['av_rating'].mean(), 1))\n",
    "print('Std deviation of average ratings   :', round(mvs['av_rating'].std(), 2))\n",
    "print('Average number of ratings per movie:', round(mvs['nmb_ratings'].mean(), 1))\n",
    "print('Average number of reviews          :', round(mvs['reviews'].mean(), 1))\n",
    "print('Average duration of movie          :', int(round(mvs['duration'].mean())))\n",
    "\n",
    "crl = mvs['nmb_ratings'].corr(mvs['reviews'])\n",
    "print('Correlation between number of ratings and number of reviews:', round(crl, 3))"
   ]
  },
  {
   "cell_type": "code",
   "execution_count": 13,
   "metadata": {},
   "outputs": [
    {
     "data": {
      "text/html": [
       "<div>\n",
       "<style scoped>\n",
       "    .dataframe tbody tr th:only-of-type {\n",
       "        vertical-align: middle;\n",
       "    }\n",
       "\n",
       "    .dataframe tbody tr th {\n",
       "        vertical-align: top;\n",
       "    }\n",
       "\n",
       "    .dataframe thead th {\n",
       "        text-align: right;\n",
       "    }\n",
       "</style>\n",
       "<table border=\"1\" class=\"dataframe\">\n",
       "  <thead>\n",
       "    <tr style=\"text-align: right;\">\n",
       "      <th></th>\n",
       "      <th>title</th>\n",
       "      <th>year</th>\n",
       "      <th>genre</th>\n",
       "      <th>av_rating</th>\n",
       "      <th>nmb_ratings</th>\n",
       "      <th>reviews</th>\n",
       "      <th>duration</th>\n",
       "      <th>country</th>\n",
       "      <th>language</th>\n",
       "      <th>description</th>\n",
       "    </tr>\n",
       "    <tr>\n",
       "      <th>imdb_id</th>\n",
       "      <th></th>\n",
       "      <th></th>\n",
       "      <th></th>\n",
       "      <th></th>\n",
       "      <th></th>\n",
       "      <th></th>\n",
       "      <th></th>\n",
       "      <th></th>\n",
       "      <th></th>\n",
       "      <th></th>\n",
       "    </tr>\n",
       "  </thead>\n",
       "  <tbody>\n",
       "    <tr>\n",
       "      <th>tt0000574</th>\n",
       "      <td>The Story of the Kelly Gang</td>\n",
       "      <td>1906</td>\n",
       "      <td>Biography, Crime, Drama</td>\n",
       "      <td>6.1</td>\n",
       "      <td>537</td>\n",
       "      <td>14</td>\n",
       "      <td>70</td>\n",
       "      <td>Australia</td>\n",
       "      <td>NaN</td>\n",
       "      <td>True story of notorious Australian outlaw Ned ...</td>\n",
       "    </tr>\n",
       "    <tr>\n",
       "      <th>tt0191323</th>\n",
       "      <td>Oborona Sevastopolya</td>\n",
       "      <td>1911</td>\n",
       "      <td>History, War</td>\n",
       "      <td>6.0</td>\n",
       "      <td>130</td>\n",
       "      <td>0</td>\n",
       "      <td>100</td>\n",
       "      <td>Russia</td>\n",
       "      <td>NaN</td>\n",
       "      <td>First film ever that was shot by two cameras. ...</td>\n",
       "    </tr>\n",
       "    <tr>\n",
       "      <th>tt0002130</th>\n",
       "      <td>L'Inferno</td>\n",
       "      <td>1911</td>\n",
       "      <td>Adventure, Drama, Fantasy</td>\n",
       "      <td>7.0</td>\n",
       "      <td>2019</td>\n",
       "      <td>42</td>\n",
       "      <td>68</td>\n",
       "      <td>Italy</td>\n",
       "      <td>Italian</td>\n",
       "      <td>Loosely adapted from Dante's Divine Comedy and...</td>\n",
       "    </tr>\n",
       "  </tbody>\n",
       "</table>\n",
       "</div>"
      ],
      "text/plain": [
       "                                 title  year                      genre  \\\n",
       "imdb_id                                                                   \n",
       "tt0000574  The Story of the Kelly Gang  1906    Biography, Crime, Drama   \n",
       "tt0191323         Oborona Sevastopolya  1911               History, War   \n",
       "tt0002130                    L'Inferno  1911  Adventure, Drama, Fantasy   \n",
       "\n",
       "           av_rating  nmb_ratings  reviews  duration    country language  \\\n",
       "imdb_id                                                                    \n",
       "tt0000574        6.1          537       14        70  Australia      NaN   \n",
       "tt0191323        6.0          130        0       100     Russia      NaN   \n",
       "tt0002130        7.0         2019       42        68      Italy  Italian   \n",
       "\n",
       "                                                 description  \n",
       "imdb_id                                                       \n",
       "tt0000574  True story of notorious Australian outlaw Ned ...  \n",
       "tt0191323  First film ever that was shot by two cameras. ...  \n",
       "tt0002130  Loosely adapted from Dante's Divine Comedy and...  "
      ]
     },
     "execution_count": 13,
     "metadata": {},
     "output_type": "execute_result"
    }
   ],
   "source": [
    "mvs.head(3)"
   ]
  },
  {
   "cell_type": "markdown",
   "metadata": {},
   "source": [
    "<br>\n",
    "\n",
    "Create DataFrame, containing general statistics about movies per year:\n",
    "* Number of movies released this year\n",
    "* Average rating of movie in this year\n",
    "* Average number of ratings per movie (average popularity)\n",
    "* Average number of reviews\n",
    "* Average duration of movie"
   ]
  },
  {
   "cell_type": "code",
   "execution_count": 14,
   "metadata": {},
   "outputs": [],
   "source": [
    "def handle_year(gr):\n",
    "    nmb_movies = len(gr)\n",
    "    av_rating_per_year = round(gr['av_rating'].mean(), 1)\n",
    "    av_nmb_ratings = round(gr['nmb_ratings'].mean(), 1)\n",
    "    av_nmb_reviews = round(gr['reviews'].mean(), 1)\n",
    "    av_duration = round(gr['duration'].mean())\n",
    "\n",
    "    return pd.Series({'nmb_movies': nmb_movies,\n",
    "                      'av_rating_per_year': av_rating_per_year,\n",
    "                      'av_nmb_ratings': av_nmb_ratings,\n",
    "                      'av_nmb_reviews': av_nmb_reviews,\n",
    "                      'av_duration': av_duration\n",
    "                     })\n",
    "\n",
    "mvs_per_year = mvs.groupby('year').apply(handle_year)"
   ]
  },
  {
   "cell_type": "markdown",
   "metadata": {},
   "source": [
    "<br>\n",
    "\n",
    "Fill in spaces and make the DataFrame more neat:\n",
    "* Fill in years without released movies with NaN values\n",
    "* Replace NaN by 0\n",
    "* Transform in some columns type of data from float to int"
   ]
  },
  {
   "cell_type": "code",
   "execution_count": 15,
   "metadata": {},
   "outputs": [
    {
     "data": {
      "text/html": [
       "<div>\n",
       "<style scoped>\n",
       "    .dataframe tbody tr th:only-of-type {\n",
       "        vertical-align: middle;\n",
       "    }\n",
       "\n",
       "    .dataframe tbody tr th {\n",
       "        vertical-align: top;\n",
       "    }\n",
       "\n",
       "    .dataframe thead th {\n",
       "        text-align: right;\n",
       "    }\n",
       "</style>\n",
       "<table border=\"1\" class=\"dataframe\">\n",
       "  <thead>\n",
       "    <tr style=\"text-align: right;\">\n",
       "      <th></th>\n",
       "      <th>nmb_movies</th>\n",
       "      <th>av_rating_per_year</th>\n",
       "      <th>av_nmb_ratings</th>\n",
       "      <th>av_nmb_reviews</th>\n",
       "      <th>av_duration</th>\n",
       "    </tr>\n",
       "  </thead>\n",
       "  <tbody>\n",
       "    <tr>\n",
       "      <th>1906</th>\n",
       "      <td>1</td>\n",
       "      <td>6.1</td>\n",
       "      <td>537.0</td>\n",
       "      <td>14.0</td>\n",
       "      <td>70</td>\n",
       "    </tr>\n",
       "    <tr>\n",
       "      <th>1907</th>\n",
       "      <td>0</td>\n",
       "      <td>0.0</td>\n",
       "      <td>0.0</td>\n",
       "      <td>0.0</td>\n",
       "      <td>0</td>\n",
       "    </tr>\n",
       "    <tr>\n",
       "      <th>1908</th>\n",
       "      <td>0</td>\n",
       "      <td>0.0</td>\n",
       "      <td>0.0</td>\n",
       "      <td>0.0</td>\n",
       "      <td>0</td>\n",
       "    </tr>\n",
       "    <tr>\n",
       "      <th>1909</th>\n",
       "      <td>0</td>\n",
       "      <td>0.0</td>\n",
       "      <td>0.0</td>\n",
       "      <td>0.0</td>\n",
       "      <td>0</td>\n",
       "    </tr>\n",
       "    <tr>\n",
       "      <th>1910</th>\n",
       "      <td>0</td>\n",
       "      <td>0.0</td>\n",
       "      <td>0.0</td>\n",
       "      <td>0.0</td>\n",
       "      <td>0</td>\n",
       "    </tr>\n",
       "    <tr>\n",
       "      <th>1911</th>\n",
       "      <td>4</td>\n",
       "      <td>6.3</td>\n",
       "      <td>616.2</td>\n",
       "      <td>12.0</td>\n",
       "      <td>75</td>\n",
       "    </tr>\n",
       "    <tr>\n",
       "      <th>1912</th>\n",
       "      <td>5</td>\n",
       "      <td>6.0</td>\n",
       "      <td>306.2</td>\n",
       "      <td>14.0</td>\n",
       "      <td>76</td>\n",
       "    </tr>\n",
       "    <tr>\n",
       "      <th>1913</th>\n",
       "      <td>13</td>\n",
       "      <td>6.6</td>\n",
       "      <td>714.0</td>\n",
       "      <td>21.2</td>\n",
       "      <td>84</td>\n",
       "    </tr>\n",
       "    <tr>\n",
       "      <th>1914</th>\n",
       "      <td>21</td>\n",
       "      <td>6.2</td>\n",
       "      <td>747.2</td>\n",
       "      <td>16.8</td>\n",
       "      <td>76</td>\n",
       "    </tr>\n",
       "    <tr>\n",
       "      <th>1915</th>\n",
       "      <td>21</td>\n",
       "      <td>6.4</td>\n",
       "      <td>1642.9</td>\n",
       "      <td>40.2</td>\n",
       "      <td>87</td>\n",
       "    </tr>\n",
       "  </tbody>\n",
       "</table>\n",
       "</div>"
      ],
      "text/plain": [
       "      nmb_movies  av_rating_per_year  av_nmb_ratings  av_nmb_reviews  \\\n",
       "1906           1                 6.1           537.0            14.0   \n",
       "1907           0                 0.0             0.0             0.0   \n",
       "1908           0                 0.0             0.0             0.0   \n",
       "1909           0                 0.0             0.0             0.0   \n",
       "1910           0                 0.0             0.0             0.0   \n",
       "1911           4                 6.3           616.2            12.0   \n",
       "1912           5                 6.0           306.2            14.0   \n",
       "1913          13                 6.6           714.0            21.2   \n",
       "1914          21                 6.2           747.2            16.8   \n",
       "1915          21                 6.4          1642.9            40.2   \n",
       "\n",
       "      av_duration  \n",
       "1906           70  \n",
       "1907            0  \n",
       "1908            0  \n",
       "1909            0  \n",
       "1910            0  \n",
       "1911           75  \n",
       "1912           76  \n",
       "1913           84  \n",
       "1914           76  \n",
       "1915           87  "
      ]
     },
     "execution_count": 15,
     "metadata": {},
     "output_type": "execute_result"
    }
   ],
   "source": [
    "mvs_per_year = pd.DataFrame(mvs_per_year, index=range(year_begin, year_end+1))\n",
    "\n",
    "mvs_per_year.fillna(0, inplace=True)\n",
    "\n",
    "mvs_per_year['nmb_movies'] = mvs_per_year['nmb_movies'].astype('int')\n",
    "mvs_per_year['av_duration'] = mvs_per_year['av_duration'].astype('int')\n",
    "\n",
    "mvs_per_year.head(10)"
   ]
  },
  {
   "cell_type": "markdown",
   "metadata": {},
   "source": [
    "<br>\n",
    "\n",
    "Number of movies per year:"
   ]
  },
  {
   "cell_type": "code",
   "execution_count": 16,
   "metadata": {
    "scrolled": false
   },
   "outputs": [
    {
     "data": {
      "image/png": "[encoded data removed]",
      "text/plain": [
       "<Figure size 1440x720 with 1 Axes>"
      ]
     },
     "metadata": {
      "needs_background": "light"
     },
     "output_type": "display_data"
    }
   ],
   "source": [
    "mvs_per_year['nmb_movies'].plot(kind='bar', width=1, figsize=(20,10),\n",
    "                                color=['#955700', '#CF971B', '#96723F', '#8E4D0C', '#BE7934'],\n",
    "                                fontsize = 14, zorder=10) \\\n",
    "                          .yaxis.grid(color='wheat', linewidth=0.5)"
   ]
  },
  {
   "cell_type": "markdown",
   "metadata": {},
   "source": [
    "<br>\n",
    "\n",
    "Average duration:"
   ]
  },
  {
   "cell_type": "code",
   "execution_count": 17,
   "metadata": {},
   "outputs": [
    {
     "data": {
      "image/png": "[encoded data removed]",
      "text/plain": [
       "<Figure size 1440x432 with 1 Axes>"
      ]
     },
     "metadata": {
      "needs_background": "light"
     },
     "output_type": "display_data"
    }
   ],
   "source": [
    "mvs_per_year['av_duration'].plot(kind='bar', width=1, figsize=(20,6),\n",
    "                                 color=['#955700', '#CF971B', '#96723F', '#8E4D0C', '#BE7934'],\n",
    "                                fontsize = 14, zorder=10) \\\n",
    "                           .yaxis.grid(color='wheat', linewidth=0.5)"
   ]
  },
  {
   "cell_type": "markdown",
   "metadata": {},
   "source": [
    "<br>\n",
    "\n",
    "Average rating of all movies per year:"
   ]
  },
  {
   "cell_type": "code",
   "execution_count": 18,
   "metadata": {},
   "outputs": [
    {
     "data": {
      "image/png": "[encoded data removed]",
      "text/plain": [
       "<Figure size 1440x432 with 1 Axes>"
      ]
     },
     "metadata": {
      "needs_background": "light"
     },
     "output_type": "display_data"
    }
   ],
   "source": [
    "mvs_per_year['av_rating_per_year'].plot(kind='bar', width=1, figsize=(20,6),\n",
    "                                        color=['#955700', '#CF971B', '#96723F', '#8E4D0C', '#BE7934'],\n",
    "                                        fontsize = 14, zorder=10) \\\n",
    "                                  .yaxis.grid(color='wheat', linewidth=0.5)"
   ]
  },
  {
   "cell_type": "markdown",
   "metadata": {},
   "source": [
    "<br>\n",
    "\n",
    "Average number of ratings per movie during a year<br>\n",
    "(*that determines average popularity among viewers movies of this year*):"
   ]
  },
  {
   "cell_type": "code",
   "execution_count": 19,
   "metadata": {
    "scrolled": false
   },
   "outputs": [
    {
     "data": {
      "image/png": "[encoded data removed]",
      "text/plain": [
       "<Figure size 1440x720 with 1 Axes>"
      ]
     },
     "metadata": {
      "needs_background": "light"
     },
     "output_type": "display_data"
    }
   ],
   "source": [
    "mvs_per_year['av_nmb_ratings'].plot(kind='bar', width=1, figsize=(20,10),\n",
    "                                    color=['#955700', '#CF971B', '#96723F', '#8E4D0C', '#BE7934'],\n",
    "                                    fontsize = 14, zorder=10) \\\n",
    "                              .yaxis.grid(color='wheat', linewidth=0.5)"
   ]
  },
  {
   "cell_type": "markdown",
   "metadata": {},
   "source": [
    "<br>\n",
    "\n",
    "Average number of reviews<br>\n",
    "(*that means average popularity among viewers*):"
   ]
  },
  {
   "cell_type": "code",
   "execution_count": 20,
   "metadata": {
    "scrolled": false
   },
   "outputs": [
    {
     "data": {
      "image/png": "[encoded data removed]",
      "text/plain": [
       "<Figure size 1440x720 with 1 Axes>"
      ]
     },
     "metadata": {
      "needs_background": "light"
     },
     "output_type": "display_data"
    }
   ],
   "source": [
    "mvs_per_year['av_nmb_reviews'].plot(kind='bar', width=1, figsize=(20,10),\n",
    "                                    color=['#955700', '#CF971B', '#96723F', '#8E4D0C', '#BE7934'],\n",
    "                                    fontsize = 14, zorder=10) \\\n",
    "                              .yaxis.grid(color='wheat', linewidth=0.5)"
   ]
  },
  {
   "cell_type": "markdown",
   "metadata": {},
   "source": [
    "<br>\n",
    "\n",
    "Correlation between **average** number of ratings per year and **average number** of reviews per year:"
   ]
  },
  {
   "cell_type": "code",
   "execution_count": 21,
   "metadata": {},
   "outputs": [
    {
     "data": {
      "text/plain": [
       "0.836"
      ]
     },
     "execution_count": 21,
     "metadata": {},
     "output_type": "execute_result"
    }
   ],
   "source": [
    "crl = mvs_per_year['av_nmb_ratings'].corr(mvs_per_year['av_nmb_reviews'])\n",
    "\n",
    "round(crl, 3)"
   ]
  },
  {
   "cell_type": "markdown",
   "metadata": {},
   "source": [
    "#### <br>\n",
    "<br>\n",
    "\n",
    "#### Goal 2: Genres of movies during the period"
   ]
  },
  {
   "cell_type": "code",
   "execution_count": 22,
   "metadata": {
    "scrolled": true
   },
   "outputs": [
    {
     "data": {
      "text/html": [
       "<div>\n",
       "<style scoped>\n",
       "    .dataframe tbody tr th:only-of-type {\n",
       "        vertical-align: middle;\n",
       "    }\n",
       "\n",
       "    .dataframe tbody tr th {\n",
       "        vertical-align: top;\n",
       "    }\n",
       "\n",
       "    .dataframe thead th {\n",
       "        text-align: right;\n",
       "    }\n",
       "</style>\n",
       "<table border=\"1\" class=\"dataframe\">\n",
       "  <thead>\n",
       "    <tr style=\"text-align: right;\">\n",
       "      <th></th>\n",
       "      <th>title</th>\n",
       "      <th>year</th>\n",
       "      <th>0</th>\n",
       "      <th>1</th>\n",
       "      <th>2</th>\n",
       "    </tr>\n",
       "    <tr>\n",
       "      <th>imdb_id</th>\n",
       "      <th></th>\n",
       "      <th></th>\n",
       "      <th></th>\n",
       "      <th></th>\n",
       "      <th></th>\n",
       "    </tr>\n",
       "  </thead>\n",
       "  <tbody>\n",
       "    <tr>\n",
       "      <th>tt0000574</th>\n",
       "      <td>The Story of the Kelly Gang</td>\n",
       "      <td>1906</td>\n",
       "      <td>Biography</td>\n",
       "      <td>Crime</td>\n",
       "      <td>Drama</td>\n",
       "    </tr>\n",
       "    <tr>\n",
       "      <th>tt0191323</th>\n",
       "      <td>Oborona Sevastopolya</td>\n",
       "      <td>1911</td>\n",
       "      <td>History</td>\n",
       "      <td>War</td>\n",
       "      <td>None</td>\n",
       "    </tr>\n",
       "    <tr>\n",
       "      <th>tt0002130</th>\n",
       "      <td>L'Inferno</td>\n",
       "      <td>1911</td>\n",
       "      <td>Adventure</td>\n",
       "      <td>Drama</td>\n",
       "      <td>Fantasy</td>\n",
       "    </tr>\n",
       "    <tr>\n",
       "      <th>tt0266688</th>\n",
       "      <td>Karadjordje</td>\n",
       "      <td>1911</td>\n",
       "      <td>Drama</td>\n",
       "      <td>War</td>\n",
       "      <td>None</td>\n",
       "    </tr>\n",
       "    <tr>\n",
       "      <th>tt0001892</th>\n",
       "      <td>Den sorte drøm</td>\n",
       "      <td>1911</td>\n",
       "      <td>Drama</td>\n",
       "      <td>None</td>\n",
       "      <td>None</td>\n",
       "    </tr>\n",
       "  </tbody>\n",
       "</table>\n",
       "</div>"
      ],
      "text/plain": [
       "                                 title  year          0      1        2\n",
       "imdb_id                                                                \n",
       "tt0000574  The Story of the Kelly Gang  1906  Biography  Crime    Drama\n",
       "tt0191323         Oborona Sevastopolya  1911    History    War     None\n",
       "tt0002130                    L'Inferno  1911  Adventure  Drama  Fantasy\n",
       "tt0266688                  Karadjordje  1911      Drama    War     None\n",
       "tt0001892               Den sorte drøm  1911      Drama   None     None"
      ]
     },
     "execution_count": 22,
     "metadata": {},
     "output_type": "execute_result"
    }
   ],
   "source": [
    "mvs_by_genres = pd.concat([mvs['title'],\n",
    "                           mvs['year'],\n",
    "                           mvs['genre'].str.split(', ', expand=True)\n",
    "                          ], axis=1)\n",
    "\n",
    "mvs_by_genres.head()"
   ]
  },
  {
   "cell_type": "markdown",
   "metadata": {},
   "source": [
    "<br>\n",
    "\n",
    "Number of movies of different genres.<br>\n",
    "(*At first, I separately count number of movies in each column, them summarize results in each row, then transfort type of data from float to integer. I'm sure that there's more easy way, but I don't know it.*)"
   ]
  },
  {
   "cell_type": "code",
   "execution_count": 23,
   "metadata": {},
   "outputs": [
    {
     "data": {
      "text/plain": [
       "Drama        3735\n",
       "Comedy       2297\n",
       "Romance      1926\n",
       "Crime        1136\n",
       "Adventure     779\n",
       "Mystery       607\n",
       "Musical       588\n",
       "Action        576\n",
       "Film-Noir     408\n",
       "War           382\n",
       "Western       347\n",
       "Thriller      278\n",
       "Horror        244\n",
       "Music         243\n",
       "History       236\n",
       "Fantasy       217\n",
       "Biography     179\n",
       "Family        156\n",
       "Sci-Fi         92\n",
       "Sport          72\n",
       "Animation      32\n",
       "dtype: int64"
      ]
     },
     "execution_count": 23,
     "metadata": {},
     "output_type": "execute_result"
    }
   ],
   "source": [
    "number_genres = mvs_by_genres.iloc[:, 2:].apply(pd.value_counts).sum(axis=1) \\\n",
    "                                         .astype('int').sort_values(ascending=False)\n",
    "number_genres"
   ]
  },
  {
   "cell_type": "markdown",
   "metadata": {},
   "source": [
    "<br>\n",
    "\n",
    "Number of movies per genres:"
   ]
  },
  {
   "cell_type": "code",
   "execution_count": 24,
   "metadata": {
    "scrolled": false
   },
   "outputs": [
    {
     "data": {
      "image/png": "[encoded data removed]",
      "text/plain": [
       "<Figure size 1440x432 with 1 Axes>"
      ]
     },
     "metadata": {
      "needs_background": "light"
     },
     "output_type": "display_data"
    }
   ],
   "source": [
    "number_genres.plot(kind='bar', figsize=(20, 6),\n",
    "                   color=['#955700', '#CF971B', '#96723F', '#8E4D0C', '#BE7934'],\n",
    "                   fontsize = 16, zorder=10) \\\n",
    "             .yaxis.grid(color='wheat', linewidth=0.5)"
   ]
  },
  {
   "cell_type": "markdown",
   "metadata": {},
   "source": [
    "<br>\n",
    "<br>\n",
    "\n",
    "#### Goal 3: Movies of definite genre per year"
   ]
  },
  {
   "cell_type": "code",
   "execution_count": 25,
   "metadata": {},
   "outputs": [],
   "source": [
    "gnr = 'Animation'"
   ]
  },
  {
   "cell_type": "markdown",
   "metadata": {},
   "source": [
    "Select movies that contain defined genre in the column 'genres'"
   ]
  },
  {
   "cell_type": "code",
   "execution_count": 26,
   "metadata": {
    "scrolled": true
   },
   "outputs": [
    {
     "data": {
      "text/html": [
       "<div>\n",
       "<style scoped>\n",
       "    .dataframe tbody tr th:only-of-type {\n",
       "        vertical-align: middle;\n",
       "    }\n",
       "\n",
       "    .dataframe tbody tr th {\n",
       "        vertical-align: top;\n",
       "    }\n",
       "\n",
       "    .dataframe thead th {\n",
       "        text-align: right;\n",
       "    }\n",
       "</style>\n",
       "<table border=\"1\" class=\"dataframe\">\n",
       "  <thead>\n",
       "    <tr style=\"text-align: right;\">\n",
       "      <th></th>\n",
       "      <th>title</th>\n",
       "      <th>year</th>\n",
       "      <th>genre</th>\n",
       "      <th>av_rating</th>\n",
       "      <th>nmb_ratings</th>\n",
       "      <th>reviews</th>\n",
       "      <th>duration</th>\n",
       "      <th>country</th>\n",
       "      <th>language</th>\n",
       "      <th>description</th>\n",
       "    </tr>\n",
       "    <tr>\n",
       "      <th>imdb_id</th>\n",
       "      <th></th>\n",
       "      <th></th>\n",
       "      <th></th>\n",
       "      <th></th>\n",
       "      <th></th>\n",
       "      <th></th>\n",
       "      <th></th>\n",
       "      <th></th>\n",
       "      <th></th>\n",
       "      <th></th>\n",
       "    </tr>\n",
       "  </thead>\n",
       "  <tbody>\n",
       "    <tr>\n",
       "      <th>tt0015532</th>\n",
       "      <td>Die Abenteuer des Prinzen Achmed</td>\n",
       "      <td>1926</td>\n",
       "      <td>Animation, Adventure, Fantasy</td>\n",
       "      <td>7.8</td>\n",
       "      <td>4872</td>\n",
       "      <td>88</td>\n",
       "      <td>81</td>\n",
       "      <td>Germany</td>\n",
       "      <td>None</td>\n",
       "      <td>A handsome prince rides a flying horse to fara...</td>\n",
       "    </tr>\n",
       "    <tr>\n",
       "      <th>tt0021025</th>\n",
       "      <td>King of Jazz</td>\n",
       "      <td>1930</td>\n",
       "      <td>Animation, Comedy, Music</td>\n",
       "      <td>6.8</td>\n",
       "      <td>930</td>\n",
       "      <td>62</td>\n",
       "      <td>99</td>\n",
       "      <td>USA</td>\n",
       "      <td>English</td>\n",
       "      <td>American Pre-Code color film starring Paul Whi...</td>\n",
       "    </tr>\n",
       "    <tr>\n",
       "      <th>tt0025263</th>\n",
       "      <td>Hollywood Party</td>\n",
       "      <td>1934</td>\n",
       "      <td>Animation, Comedy, Musical</td>\n",
       "      <td>6.2</td>\n",
       "      <td>705</td>\n",
       "      <td>48</td>\n",
       "      <td>68</td>\n",
       "      <td>USA</td>\n",
       "      <td>English</td>\n",
       "      <td>Jimmy Durante is jungle star Schnarzan the Con...</td>\n",
       "    </tr>\n",
       "    <tr>\n",
       "      <th>tt0026793</th>\n",
       "      <td>Novyy Gulliver</td>\n",
       "      <td>1935</td>\n",
       "      <td>Animation, Adventure, Comedy</td>\n",
       "      <td>6.8</td>\n",
       "      <td>229</td>\n",
       "      <td>7</td>\n",
       "      <td>75</td>\n",
       "      <td>Soviet Union</td>\n",
       "      <td>Russian</td>\n",
       "      <td>While hearing the story of \"Gulliver's Travels...</td>\n",
       "    </tr>\n",
       "    <tr>\n",
       "      <th>tt0029583</th>\n",
       "      <td>Snow White and the Seven Dwarfs</td>\n",
       "      <td>1937</td>\n",
       "      <td>Animation, Family, Fantasy</td>\n",
       "      <td>7.6</td>\n",
       "      <td>168735</td>\n",
       "      <td>395</td>\n",
       "      <td>83</td>\n",
       "      <td>USA</td>\n",
       "      <td>English</td>\n",
       "      <td>Exiled into the dangerous forest by her wicked...</td>\n",
       "    </tr>\n",
       "  </tbody>\n",
       "</table>\n",
       "</div>"
      ],
      "text/plain": [
       "                                      title  year  \\\n",
       "imdb_id                                             \n",
       "tt0015532  Die Abenteuer des Prinzen Achmed  1926   \n",
       "tt0021025                      King of Jazz  1930   \n",
       "tt0025263                   Hollywood Party  1934   \n",
       "tt0026793                    Novyy Gulliver  1935   \n",
       "tt0029583   Snow White and the Seven Dwarfs  1937   \n",
       "\n",
       "                                   genre  av_rating  nmb_ratings  reviews  \\\n",
       "imdb_id                                                                     \n",
       "tt0015532  Animation, Adventure, Fantasy        7.8         4872       88   \n",
       "tt0021025       Animation, Comedy, Music        6.8          930       62   \n",
       "tt0025263     Animation, Comedy, Musical        6.2          705       48   \n",
       "tt0026793   Animation, Adventure, Comedy        6.8          229        7   \n",
       "tt0029583     Animation, Family, Fantasy        7.6       168735      395   \n",
       "\n",
       "           duration       country language  \\\n",
       "imdb_id                                      \n",
       "tt0015532        81       Germany     None   \n",
       "tt0021025        99           USA  English   \n",
       "tt0025263        68           USA  English   \n",
       "tt0026793        75  Soviet Union  Russian   \n",
       "tt0029583        83           USA  English   \n",
       "\n",
       "                                                 description  \n",
       "imdb_id                                                       \n",
       "tt0015532  A handsome prince rides a flying horse to fara...  \n",
       "tt0021025  American Pre-Code color film starring Paul Whi...  \n",
       "tt0025263  Jimmy Durante is jungle star Schnarzan the Con...  \n",
       "tt0026793  While hearing the story of \"Gulliver's Travels...  \n",
       "tt0029583  Exiled into the dangerous forest by her wicked...  "
      ]
     },
     "execution_count": 26,
     "metadata": {},
     "output_type": "execute_result"
    }
   ],
   "source": [
    "mvs_of_genre = mvs[mvs['genre'].str.contains(gnr)]\n",
    "\n",
    "mvs_of_genre.head()"
   ]
  },
  {
   "cell_type": "markdown",
   "metadata": {},
   "source": [
    "<br>\n",
    "\n",
    "Count number of movies with defined genre per year:"
   ]
  },
  {
   "cell_type": "code",
   "execution_count": 27,
   "metadata": {
    "scrolled": true
   },
   "outputs": [
    {
     "data": {
      "text/plain": [
       "year\n",
       "1926    1\n",
       "1930    1\n",
       "1934    1\n",
       "1935    1\n",
       "1937    2\n",
       "dtype: int64"
      ]
     },
     "execution_count": 27,
     "metadata": {},
     "output_type": "execute_result"
    }
   ],
   "source": [
    "number_mvs_of_genre = mvs_of_genre.groupby('year').size()\n",
    "\n",
    "number_mvs_of_genre.head()"
   ]
  },
  {
   "cell_type": "markdown",
   "metadata": {},
   "source": [
    "<br>\n",
    "\n",
    "Years of the oldest and latest movies of defined genre:"
   ]
  },
  {
   "cell_type": "code",
   "execution_count": 28,
   "metadata": {},
   "outputs": [
    {
     "data": {
      "text/plain": [
       "(1926, 1950)"
      ]
     },
     "execution_count": 28,
     "metadata": {},
     "output_type": "execute_result"
    }
   ],
   "source": [
    "year_genre_oldest = number_mvs_of_genre.index.min()\n",
    "year_genre_latest = number_mvs_of_genre.index.max()\n",
    "\n",
    "year_genre_oldest, year_genre_latest"
   ]
  },
  {
   "cell_type": "markdown",
   "metadata": {},
   "source": [
    "<br>\n",
    "\n",
    "Handle details of the Series:\n",
    "* Fill in years without data with NaN values\n",
    "* Replace NaN by 0\n",
    "* Transform type from float to int"
   ]
  },
  {
   "cell_type": "code",
   "execution_count": 29,
   "metadata": {
    "scrolled": true
   },
   "outputs": [
    {
     "data": {
      "text/plain": [
       "1926    1\n",
       "1927    0\n",
       "1928    0\n",
       "1929    0\n",
       "1930    1\n",
       "dtype: int64"
      ]
     },
     "execution_count": 29,
     "metadata": {},
     "output_type": "execute_result"
    }
   ],
   "source": [
    "number_mvs_of_genre = pd.Series(number_mvs_of_genre, index=range(year_genre_oldest, year_genre_latest+1))\n",
    "number_mvs_of_genre.fillna(0, inplace=True)\n",
    "number_mvs_of_genre = number_mvs_of_genre.astype('int')\n",
    "\n",
    "number_mvs_of_genre.head()"
   ]
  },
  {
   "cell_type": "markdown",
   "metadata": {},
   "source": [
    "Total number of movies of defined genre in defined perios:"
   ]
  },
  {
   "cell_type": "code",
   "execution_count": 30,
   "metadata": {},
   "outputs": [
    {
     "data": {
      "text/plain": [
       "32"
      ]
     },
     "execution_count": 30,
     "metadata": {},
     "output_type": "execute_result"
    }
   ],
   "source": [
    "number_mvs_of_genre.sum()"
   ]
  },
  {
   "cell_type": "markdown",
   "metadata": {},
   "source": [
    "<br>\n",
    "\n",
    "Number of movies of defined genre per year:"
   ]
  },
  {
   "cell_type": "code",
   "execution_count": 31,
   "metadata": {
    "scrolled": false
   },
   "outputs": [
    {
     "data": {
      "image/png": "[encoded data removed]",
      "text/plain": [
       "<Figure size 1440x432 with 1 Axes>"
      ]
     },
     "metadata": {
      "needs_background": "light"
     },
     "output_type": "display_data"
    }
   ],
   "source": [
    "number_mvs_of_genre.plot(kind='bar', width=1, figsize=(20,6),\n",
    "                         color=['#955700', '#CF971B', '#96723F', '#8E4D0C', '#BE7934'],\n",
    "                         fontsize = 14, zorder=10,\n",
    "                         title=f\"Moves of genre '{gnr}'\") \\\n",
    "                   .yaxis.grid(color='wheat', linewidth=0.5)"
   ]
  },
  {
   "cell_type": "markdown",
   "metadata": {},
   "source": [
    "<br>\n",
    "<br>\n",
    "\n",
    "#### Goal 3-extended: Comparison of movies of several genres"
   ]
  },
  {
   "cell_type": "code",
   "execution_count": 32,
   "metadata": {},
   "outputs": [],
   "source": [
    "import matplotlib.pyplot as plt\n",
    "\n",
    "plt.rcParams['figure.figsize'] = (20, 8)  # plt.rc('figure', figsize=(20, 6))\n",
    "plt.rcParams['font.size'] = 14            # plt.rc('font', size=14)"
   ]
  },
  {
   "cell_type": "code",
   "execution_count": 33,
   "metadata": {},
   "outputs": [
    {
     "data": {
      "image/png": "[encoded data removed]",
      "text/plain": [
       "<Figure size 1440x576 with 1 Axes>"
      ]
     },
     "metadata": {
      "needs_background": "light"
     },
     "output_type": "display_data"
    }
   ],
   "source": [
    "gnrs = ['History', 'Animation', 'War']\n",
    "\n",
    "year_graph_oldest = 1911 #year_begin\n",
    "year_graph_latest = year_end\n",
    "\n",
    "styles = ['c--', 'g--', 'r-.', 'm:', 'b--', 'y', 'b:']\n",
    "\n",
    "for i, gnr in enumerate(gnrs):\n",
    "    mvs_with_gnr = mvs_by_genres[(mvs_by_genres.iloc[:, 2:] == gnr).any(axis=1)]\n",
    "    number_mvs_of_genre = mvs_with_gnr.groupby('year').size()\n",
    "    \n",
    "    year_genre_oldest = mvs_with_gnr['year'].min()\n",
    "    year_genre_latest = mvs_with_gnr['year'].max()\n",
    "    \n",
    "    if math.isnan(year_genre_oldest):\n",
    "        print(f'There is no movies of genre {gnr} in this time period')\n",
    "        continue\n",
    "    \n",
    "    number_mvs_of_genre = pd.Series(number_mvs_of_genre,\n",
    "                                    index=range(year_genre_oldest, year_genre_latest+1))\n",
    "    number_mvs_of_genre.fillna(0, inplace=True)\n",
    "    number_mvs_of_genre = number_mvs_of_genre.astype('int')\n",
    "\n",
    "    plt.plot(number_mvs_of_genre.index, number_mvs_of_genre, styles[i], label=gnr)\n",
    "\n",
    "plt.xlim(year_graph_oldest, year_graph_latest)\n",
    "plt.ylim(0)\n",
    "\n",
    "labels = range(year_graph_oldest, year_graph_latest+1)\n",
    "plt.grid(color='wheat', linewidth=0.25)\n",
    "plt.xticks(labels, rotation='vertical')\n",
    "\n",
    "plt.legend(loc='upper left')\n",
    "plt.show()"
   ]
  },
  {
   "cell_type": "markdown",
   "metadata": {},
   "source": [
    "<br>\n",
    "<br>\n",
    "\n",
    "#### Goal 4: Combination of defined genre with other genres"
   ]
  },
  {
   "cell_type": "markdown",
   "metadata": {},
   "source": [
    "Select movies with defined genre. For that we use already created  DataFrame 'mvs_with_gnr'.<br>\n",
    "(*Using 'mvs_of_genre' would be simpler way, but boring in terms of programming.*)"
   ]
  },
  {
   "cell_type": "code",
   "execution_count": 34,
   "metadata": {},
   "outputs": [
    {
     "data": {
      "text/html": [
       "<div>\n",
       "<style scoped>\n",
       "    .dataframe tbody tr th:only-of-type {\n",
       "        vertical-align: middle;\n",
       "    }\n",
       "\n",
       "    .dataframe tbody tr th {\n",
       "        vertical-align: top;\n",
       "    }\n",
       "\n",
       "    .dataframe thead th {\n",
       "        text-align: right;\n",
       "    }\n",
       "</style>\n",
       "<table border=\"1\" class=\"dataframe\">\n",
       "  <thead>\n",
       "    <tr style=\"text-align: right;\">\n",
       "      <th></th>\n",
       "      <th>title</th>\n",
       "      <th>year</th>\n",
       "      <th>0</th>\n",
       "      <th>1</th>\n",
       "      <th>2</th>\n",
       "    </tr>\n",
       "    <tr>\n",
       "      <th>imdb_id</th>\n",
       "      <th></th>\n",
       "      <th></th>\n",
       "      <th></th>\n",
       "      <th></th>\n",
       "      <th></th>\n",
       "    </tr>\n",
       "  </thead>\n",
       "  <tbody>\n",
       "    <tr>\n",
       "      <th>tt0191323</th>\n",
       "      <td>Oborona Sevastopolya</td>\n",
       "      <td>1911</td>\n",
       "      <td>History</td>\n",
       "      <td>War</td>\n",
       "      <td>None</td>\n",
       "    </tr>\n",
       "    <tr>\n",
       "      <th>tt0266688</th>\n",
       "      <td>Karadjordje</td>\n",
       "      <td>1911</td>\n",
       "      <td>Drama</td>\n",
       "      <td>War</td>\n",
       "      <td>None</td>\n",
       "    </tr>\n",
       "    <tr>\n",
       "      <th>tt0002452</th>\n",
       "      <td>Independenta Romaniei</td>\n",
       "      <td>1912</td>\n",
       "      <td>History</td>\n",
       "      <td>War</td>\n",
       "      <td>None</td>\n",
       "    </tr>\n",
       "    <tr>\n",
       "      <th>tt0003131</th>\n",
       "      <td>Maudite soit la guerre</td>\n",
       "      <td>1914</td>\n",
       "      <td>Drama</td>\n",
       "      <td>War</td>\n",
       "      <td>None</td>\n",
       "    </tr>\n",
       "    <tr>\n",
       "      <th>tt0005719</th>\n",
       "      <td>Martyrs of the Alamo</td>\n",
       "      <td>1915</td>\n",
       "      <td>Drama</td>\n",
       "      <td>History</td>\n",
       "      <td>War</td>\n",
       "    </tr>\n",
       "  </tbody>\n",
       "</table>\n",
       "</div>"
      ],
      "text/plain": [
       "                            title  year        0        1     2\n",
       "imdb_id                                                        \n",
       "tt0191323    Oborona Sevastopolya  1911  History      War  None\n",
       "tt0266688             Karadjordje  1911    Drama      War  None\n",
       "tt0002452   Independenta Romaniei  1912  History      War  None\n",
       "tt0003131  Maudite soit la guerre  1914    Drama      War  None\n",
       "tt0005719    Martyrs of the Alamo  1915    Drama  History   War"
      ]
     },
     "execution_count": 34,
     "metadata": {},
     "output_type": "execute_result"
    }
   ],
   "source": [
    "mvs_with_gnr = mvs_by_genres[(mvs_by_genres.iloc[:, 2:] == gnr).any(axis=1)]\n",
    "\n",
    "assert len(mvs_with_gnr) == number_mvs_of_genre.sum(), 'something wrong with number of movies'\n",
    "\n",
    "mvs_with_gnr.head()"
   ]
  },
  {
   "cell_type": "markdown",
   "metadata": {},
   "source": [
    "<br>\n",
    "\n",
    "Count number of adjacent genres. Delete from resulted Series initial genre."
   ]
  },
  {
   "cell_type": "code",
   "execution_count": 35,
   "metadata": {
    "scrolled": true
   },
   "outputs": [
    {
     "data": {
      "text/plain": [
       "Drama        305\n",
       "Romance       94\n",
       "Comedy        53\n",
       "History       30\n",
       "Adventure     23\n",
       "Action        22\n",
       "Thriller      19\n",
       "Musical       11\n",
       "Biography      6\n",
       "Music          4\n",
       "Fantasy        2\n",
       "Crime          2\n",
       "Sci-Fi         2\n",
       "Western        2\n",
       "Horror         1\n",
       "Family         1\n",
       "Mystery        1\n",
       "dtype: int64"
      ]
     },
     "execution_count": 35,
     "metadata": {},
     "output_type": "execute_result"
    }
   ],
   "source": [
    "number_adjacent_genres = mvs_with_gnr.iloc[:, 2:].apply(pd.value_counts).sum(axis=1) \\\n",
    "                                                 .astype('int').sort_values(ascending=False)\n",
    "\n",
    "number_adjacent_genres.drop(gnr, inplace=True)\n",
    "#alternative: del number_adjacent_genres[gnr]\n",
    "\n",
    "number_adjacent_genres"
   ]
  },
  {
   "cell_type": "markdown",
   "metadata": {},
   "source": [
    "<br>\n",
    "\n",
    "Number of adjacent genres:"
   ]
  },
  {
   "cell_type": "code",
   "execution_count": 36,
   "metadata": {
    "scrolled": false
   },
   "outputs": [
    {
     "data": {
      "image/png": "[encoded data removed]",
      "text/plain": [
       "<Figure size 1440x432 with 1 Axes>"
      ]
     },
     "metadata": {
      "needs_background": "light"
     },
     "output_type": "display_data"
    }
   ],
   "source": [
    "number_adjacent_genres.plot(kind='bar', figsize=(20,6),\n",
    "                            color=['#955700', '#CF971B', '#96723F', '#8E4D0C', '#BE7934'],\n",
    "                            fontsize = 16, zorder=10) \\\n",
    "                      .yaxis.grid(color='wheat', linewidth=0.5)"
   ]
  },
  {
   "cell_type": "markdown",
   "metadata": {},
   "source": [
    "Number of movies without adjacent genres:<br>\n",
    "(*I use trick that in such case the second column of genre contains 'None'*)"
   ]
  },
  {
   "cell_type": "code",
   "execution_count": 37,
   "metadata": {},
   "outputs": [
    {
     "data": {
      "text/plain": [
       "3"
      ]
     },
     "execution_count": 37,
     "metadata": {},
     "output_type": "execute_result"
    }
   ],
   "source": [
    "len(mvs_with_gnr[mvs_with_gnr[1].isnull()])"
   ]
  },
  {
   "cell_type": "markdown",
   "metadata": {},
   "source": [
    "<br>\n",
    "<br>\n",
    "\n",
    "#### Goal 5: Movies per country"
   ]
  },
  {
   "cell_type": "code",
   "execution_count": 38,
   "metadata": {},
   "outputs": [
    {
     "data": {
      "text/html": [
       "<div>\n",
       "<style scoped>\n",
       "    .dataframe tbody tr th:only-of-type {\n",
       "        vertical-align: middle;\n",
       "    }\n",
       "\n",
       "    .dataframe tbody tr th {\n",
       "        vertical-align: top;\n",
       "    }\n",
       "\n",
       "    .dataframe thead th {\n",
       "        text-align: right;\n",
       "    }\n",
       "</style>\n",
       "<table border=\"1\" class=\"dataframe\">\n",
       "  <thead>\n",
       "    <tr style=\"text-align: right;\">\n",
       "      <th></th>\n",
       "      <th>title</th>\n",
       "      <th>year</th>\n",
       "      <th>0</th>\n",
       "      <th>1</th>\n",
       "      <th>2</th>\n",
       "    </tr>\n",
       "    <tr>\n",
       "      <th>imdb_id</th>\n",
       "      <th></th>\n",
       "      <th></th>\n",
       "      <th></th>\n",
       "      <th></th>\n",
       "      <th></th>\n",
       "    </tr>\n",
       "  </thead>\n",
       "  <tbody>\n",
       "    <tr>\n",
       "      <th>tt0000574</th>\n",
       "      <td>The Story of the Kelly Gang</td>\n",
       "      <td>1906</td>\n",
       "      <td>Australia</td>\n",
       "      <td>None</td>\n",
       "      <td>None</td>\n",
       "    </tr>\n",
       "    <tr>\n",
       "      <th>tt0191323</th>\n",
       "      <td>Oborona Sevastopolya</td>\n",
       "      <td>1911</td>\n",
       "      <td>Russia</td>\n",
       "      <td>None</td>\n",
       "      <td>None</td>\n",
       "    </tr>\n",
       "    <tr>\n",
       "      <th>tt0002130</th>\n",
       "      <td>L'Inferno</td>\n",
       "      <td>1911</td>\n",
       "      <td>Italy</td>\n",
       "      <td>None</td>\n",
       "      <td>None</td>\n",
       "    </tr>\n",
       "    <tr>\n",
       "      <th>tt0266688</th>\n",
       "      <td>Karadjordje</td>\n",
       "      <td>1911</td>\n",
       "      <td>Serbia</td>\n",
       "      <td>None</td>\n",
       "      <td>None</td>\n",
       "    </tr>\n",
       "    <tr>\n",
       "      <th>tt0001892</th>\n",
       "      <td>Den sorte drøm</td>\n",
       "      <td>1911</td>\n",
       "      <td>Germany</td>\n",
       "      <td>Denmark</td>\n",
       "      <td>None</td>\n",
       "    </tr>\n",
       "  </tbody>\n",
       "</table>\n",
       "</div>"
      ],
      "text/plain": [
       "                                 title  year          0        1     2\n",
       "imdb_id                                                               \n",
       "tt0000574  The Story of the Kelly Gang  1906  Australia     None  None\n",
       "tt0191323         Oborona Sevastopolya  1911     Russia     None  None\n",
       "tt0002130                    L'Inferno  1911      Italy     None  None\n",
       "tt0266688                  Karadjordje  1911     Serbia     None  None\n",
       "tt0001892               Den sorte drøm  1911    Germany  Denmark  None"
      ]
     },
     "execution_count": 38,
     "metadata": {},
     "output_type": "execute_result"
    }
   ],
   "source": [
    "mvs_by_country = pd.concat([mvs['title'],\n",
    "                            mvs['year'],\n",
    "                            mvs['country'].str.split(', ', expand=True)\n",
    "                           ], axis=1)\n",
    "\n",
    "mvs_by_country.head()"
   ]
  },
  {
   "cell_type": "code",
   "execution_count": 39,
   "metadata": {
    "scrolled": true
   },
   "outputs": [
    {
     "data": {
      "text/plain": [
       "USA               5095\n",
       "UK                 472\n",
       "France             279\n",
       "Germany            191\n",
       "Soviet Union       102\n",
       "Italy               99\n",
       "Japan               93\n",
       "Mexico              63\n",
       "Sweden              52\n",
       "Czechoslovakia      27\n",
       "Finland             23\n",
       "Denmark             18\n",
       "Hungary             16\n",
       "Spain               16\n",
       "China               15\n",
       "Norway              13\n",
       "dtype: int64"
      ]
     },
     "execution_count": 39,
     "metadata": {},
     "output_type": "execute_result"
    }
   ],
   "source": [
    "number_countries = mvs_by_country.iloc[:, 2:].apply(pd.value_counts).sum(axis=1) \\\n",
    "                                             .astype('int').sort_values(ascending=False)\n",
    "\n",
    "# filter 'number_countries' to include only frequent languages\n",
    "if len(number_countries) > 16:\n",
    "    threshold = number_countries[15]\n",
    "    number_countries = number_countries[number_countries >= threshold]\n",
    "    \n",
    "number_countries"
   ]
  },
  {
   "cell_type": "markdown",
   "metadata": {},
   "source": [
    "<br>\n",
    "\n",
    "Number of movies per country:"
   ]
  },
  {
   "cell_type": "code",
   "execution_count": 40,
   "metadata": {
    "scrolled": false
   },
   "outputs": [
    {
     "data": {
      "image/png": "[encoded data removed]",
      "text/plain": [
       "<Figure size 1440x432 with 1 Axes>"
      ]
     },
     "metadata": {
      "needs_background": "light"
     },
     "output_type": "display_data"
    }
   ],
   "source": [
    "number_countries.plot(kind='bar', figsize=(20, 6),\n",
    "                      color=['#955700', '#CF971B', '#96723F', '#8E4D0C', '#BE7934'],\n",
    "                      fontsize = 16, zorder=10) \\\n",
    "                .yaxis.grid(color='wheat', linewidth=0.5)"
   ]
  },
  {
   "cell_type": "markdown",
   "metadata": {},
   "source": [
    "<br>\n",
    "<br>\n",
    "\n",
    "#### Goal 5-extended: comparison of movie production in different countries"
   ]
  },
  {
   "cell_type": "code",
   "execution_count": 41,
   "metadata": {},
   "outputs": [
    {
     "data": {
      "image/png": "[encoded data removed]",
      "text/plain": [
       "<Figure size 1440x576 with 1 Axes>"
      ]
     },
     "metadata": {
      "needs_background": "light"
     },
     "output_type": "display_data"
    }
   ],
   "source": [
    "countries = ['France', 'Germany','Russia', 'Soviet Union']\n",
    "\n",
    "year_graph_oldest = 1911 #year_begin\n",
    "year_graph_latest = year_end\n",
    "\n",
    "styles = ['m--', 'y-.', 'r--', 'r:', 'g:', 'b--', 'm:']\n",
    "\n",
    "for i, country in enumerate(countries):\n",
    "    mvs_of_country = mvs_by_country[(mvs_by_country.iloc[:, 2:] == country).any(axis=1)]\n",
    "    number_mvs_of_country = mvs_of_country.groupby('year').size()\n",
    "    \n",
    "    year_country_oldest = mvs_of_country['year'].min()\n",
    "    year_country_latest = mvs_of_country['year'].max()\n",
    "    \n",
    "    if math.isnan(year_country_oldest):\n",
    "        print(f'There is no movies maiden in {country} in this time period')\n",
    "        continue\n",
    "        \n",
    "    number_mvs_of_country = pd.Series(number_mvs_of_country,\n",
    "                                      index=range(year_country_oldest, year_country_latest+1))\n",
    "    number_mvs_of_country.fillna(0, inplace=True)\n",
    "    number_mvs_of_country = number_mvs_of_country.astype('int')\n",
    "\n",
    "    plt.plot(number_mvs_of_country.index, number_mvs_of_country, styles[i], label=country)\n",
    "\n",
    "plt.xlim(year_graph_oldest, year_graph_latest)\n",
    "plt.ylim(0)\n",
    "\n",
    "labels = range(year_graph_oldest, year_graph_latest+1)\n",
    "plt.grid(color='wheat', linewidth=0.25)\n",
    "plt.xticks(labels, rotation='vertical')\n",
    "\n",
    "plt.legend(loc='upper left')\n",
    "plt.show()"
   ]
  },
  {
   "cell_type": "markdown",
   "metadata": {},
   "source": [
    "<br>\n",
    "<br>\n",
    "\n",
    "#### Goal 6: Movies per language"
   ]
  },
  {
   "cell_type": "code",
   "execution_count": 42,
   "metadata": {},
   "outputs": [
    {
     "data": {
      "text/html": [
       "<div>\n",
       "<style scoped>\n",
       "    .dataframe tbody tr th:only-of-type {\n",
       "        vertical-align: middle;\n",
       "    }\n",
       "\n",
       "    .dataframe tbody tr th {\n",
       "        vertical-align: top;\n",
       "    }\n",
       "\n",
       "    .dataframe thead th {\n",
       "        text-align: right;\n",
       "    }\n",
       "</style>\n",
       "<table border=\"1\" class=\"dataframe\">\n",
       "  <thead>\n",
       "    <tr style=\"text-align: right;\">\n",
       "      <th></th>\n",
       "      <th>title</th>\n",
       "      <th>year</th>\n",
       "      <th>0</th>\n",
       "      <th>1</th>\n",
       "      <th>2</th>\n",
       "      <th>3</th>\n",
       "      <th>4</th>\n",
       "      <th>5</th>\n",
       "      <th>6</th>\n",
       "    </tr>\n",
       "    <tr>\n",
       "      <th>imdb_id</th>\n",
       "      <th></th>\n",
       "      <th></th>\n",
       "      <th></th>\n",
       "      <th></th>\n",
       "      <th></th>\n",
       "      <th></th>\n",
       "      <th></th>\n",
       "      <th></th>\n",
       "      <th></th>\n",
       "    </tr>\n",
       "  </thead>\n",
       "  <tbody>\n",
       "    <tr>\n",
       "      <th>tt0000574</th>\n",
       "      <td>The Story of the Kelly Gang</td>\n",
       "      <td>1906</td>\n",
       "      <td>NaN</td>\n",
       "      <td>NaN</td>\n",
       "      <td>NaN</td>\n",
       "      <td>NaN</td>\n",
       "      <td>NaN</td>\n",
       "      <td>NaN</td>\n",
       "      <td>NaN</td>\n",
       "    </tr>\n",
       "    <tr>\n",
       "      <th>tt0191323</th>\n",
       "      <td>Oborona Sevastopolya</td>\n",
       "      <td>1911</td>\n",
       "      <td>NaN</td>\n",
       "      <td>NaN</td>\n",
       "      <td>NaN</td>\n",
       "      <td>NaN</td>\n",
       "      <td>NaN</td>\n",
       "      <td>NaN</td>\n",
       "      <td>NaN</td>\n",
       "    </tr>\n",
       "    <tr>\n",
       "      <th>tt0002130</th>\n",
       "      <td>L'Inferno</td>\n",
       "      <td>1911</td>\n",
       "      <td>Italian</td>\n",
       "      <td>None</td>\n",
       "      <td>None</td>\n",
       "      <td>None</td>\n",
       "      <td>None</td>\n",
       "      <td>None</td>\n",
       "      <td>None</td>\n",
       "    </tr>\n",
       "    <tr>\n",
       "      <th>tt0266688</th>\n",
       "      <td>Karadjordje</td>\n",
       "      <td>1911</td>\n",
       "      <td>Serbian</td>\n",
       "      <td>None</td>\n",
       "      <td>None</td>\n",
       "      <td>None</td>\n",
       "      <td>None</td>\n",
       "      <td>None</td>\n",
       "      <td>None</td>\n",
       "    </tr>\n",
       "    <tr>\n",
       "      <th>tt0001892</th>\n",
       "      <td>Den sorte drøm</td>\n",
       "      <td>1911</td>\n",
       "      <td>NaN</td>\n",
       "      <td>NaN</td>\n",
       "      <td>NaN</td>\n",
       "      <td>NaN</td>\n",
       "      <td>NaN</td>\n",
       "      <td>NaN</td>\n",
       "      <td>NaN</td>\n",
       "    </tr>\n",
       "  </tbody>\n",
       "</table>\n",
       "</div>"
      ],
      "text/plain": [
       "                                 title  year        0     1     2     3     4  \\\n",
       "imdb_id                                                                         \n",
       "tt0000574  The Story of the Kelly Gang  1906      NaN   NaN   NaN   NaN   NaN   \n",
       "tt0191323         Oborona Sevastopolya  1911      NaN   NaN   NaN   NaN   NaN   \n",
       "tt0002130                    L'Inferno  1911  Italian  None  None  None  None   \n",
       "tt0266688                  Karadjordje  1911  Serbian  None  None  None  None   \n",
       "tt0001892               Den sorte drøm  1911      NaN   NaN   NaN   NaN   NaN   \n",
       "\n",
       "              5     6  \n",
       "imdb_id                \n",
       "tt0000574   NaN   NaN  \n",
       "tt0191323   NaN   NaN  \n",
       "tt0002130  None  None  \n",
       "tt0266688  None  None  \n",
       "tt0001892   NaN   NaN  "
      ]
     },
     "execution_count": 42,
     "metadata": {},
     "output_type": "execute_result"
    }
   ],
   "source": [
    "mvs_by_language = pd.concat([mvs['title'],\n",
    "                             mvs['year'],\n",
    "                             mvs['language'].str.split(', ', expand=True)\n",
    "                            ], axis=1)\n",
    "\n",
    "mvs_by_language.head()"
   ]
  },
  {
   "cell_type": "code",
   "execution_count": 43,
   "metadata": {
    "scrolled": true
   },
   "outputs": [
    {
     "data": {
      "text/plain": [
       "English       5471\n",
       "French         580\n",
       "German         370\n",
       "Spanish        239\n",
       "Italian        196\n",
       "Russian        131\n",
       "Japanese        99\n",
       "Swedish         45\n",
       "Latin           35\n",
       "Portuguese      30\n",
       "Czech           29\n",
       "Mandarin        25\n",
       "Hungarian       24\n",
       "Finnish         22\n",
       "Yiddish         17\n",
       "Arabic          16\n",
       "dtype: int64"
      ]
     },
     "execution_count": 43,
     "metadata": {},
     "output_type": "execute_result"
    }
   ],
   "source": [
    "number_languages = mvs_by_language.iloc[:, 2:].apply(pd.value_counts).sum(axis=1) \\\n",
    "                                              .astype('int').sort_values(ascending=False)\n",
    "\n",
    "# filter 'number_languages' to include only frequent languages\n",
    "if len(number_languages) > 16:\n",
    "    threshold = number_languages[15]\n",
    "    number_languages = number_languages[number_languages >= threshold]\n",
    "\n",
    "number_languages"
   ]
  },
  {
   "cell_type": "markdown",
   "metadata": {},
   "source": [
    "<br>\n",
    "\n",
    "Number of movies per language:"
   ]
  },
  {
   "cell_type": "code",
   "execution_count": 44,
   "metadata": {},
   "outputs": [
    {
     "data": {
      "image/png": "[encoded data removed]",
      "text/plain": [
       "<Figure size 1440x432 with 1 Axes>"
      ]
     },
     "metadata": {
      "needs_background": "light"
     },
     "output_type": "display_data"
    }
   ],
   "source": [
    "number_languages.plot(kind='bar', figsize=(20, 6),\n",
    "                      color=['#955700', '#CF971B', '#96723F', '#8E4D0C', '#BE7934'],\n",
    "                      fontsize = 16, zorder=10) \\\n",
    "                .yaxis.grid(color='wheat', linewidth=0.5)"
   ]
  },
  {
   "cell_type": "markdown",
   "metadata": {},
   "source": [
    "Number of movies without declared language:"
   ]
  },
  {
   "cell_type": "code",
   "execution_count": 45,
   "metadata": {},
   "outputs": [
    {
     "data": {
      "text/plain": [
       "217"
      ]
     },
     "execution_count": 45,
     "metadata": {},
     "output_type": "execute_result"
    }
   ],
   "source": [
    "mvs_by_language[0].isnull().sum()"
   ]
  }
 ],
 "metadata": {
  "kernelspec": {
   "display_name": "Python 3",
   "language": "python",
   "name": "python3"
  },
  "language_info": {
   "codemirror_mode": {
    "name": "ipython",
    "version": 3
   },
   "file_extension": ".py",
   "mimetype": "text/x-python",
   "name": "python",
   "nbconvert_exporter": "python",
   "pygments_lexer": "ipython3",
   "version": "3.7.3"
  }
 },
 "nbformat": 4,
 "nbformat_minor": 2
}
